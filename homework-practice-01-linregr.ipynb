{
 "cells": [
  {
   "cell_type": "markdown",
   "metadata": {},
   "source": [
    "# Машинное обучение, ФКН ВШЭ\n",
    "\n",
    "# Практическое задание 1\n",
    "\n",
    "## Общая информация\n",
    "\n",
    "Дата выдачи: 16.09.2016\n",
    "\n",
    "Срок сдачи: 30.09.2016 23:59MSK\n",
    "\n",
    "### О задании\n",
    "\n",
    "Практическое задание 1 посвящено изучению основных библиотек для анализа данных, а также линейных моделей и методов их обучения. Вы научитесь:\n",
    " * применять библиотеки NumPy и Pandas для осуществления желаемых преобразований;\n",
    " * подготавливать данные для обучения линейных моделей;\n",
    " * обучать линейную, Lasso и Ridge-регрессии при помощи модуля scikit-learn;\n",
    " * реализовывать обычный и стохастический градиентные спуски;\n",
    " * обучать линейную регрессию для произвольного функционала качества.\n",
    " \n",
    "\n",
    "### Оценивание и штрафы\n",
    "\n",
    "Каждая из задач имеет определенную «стоимость» (указана в скобках около задачи). Максимально допустимая оценка за работу — 10 баллов. Кроме того, некоторые из заданий являются опциональными (необязательными), однако за их выполнение можно получить дополнительные баллы, которые позднее будут учитываться при проставлении оценок автоматом по курсу.\n",
    "\n",
    "Сдавать задание после указанного срока сдачи нельзя. При выставлении неполного балла за задание в связи с наличием ошибок на усмотрение проверяющего предусмотрена возможность исправить работу на указанных в ответном письме условиях.\n",
    "\n",
    "Задание выполняется самостоятельно. «Похожие» решения считаются плагиатом и все задействованные студенты (в том числе те, у кого списали) не могут получить за него больше 0 баллов (подробнее о плагиате см. на странице курса). Если вы нашли решение какого-то из заданий (или его часть) в открытом источнике, необходимо указать ссылку на этот источник в отдельном блоке в конце Вашей работы (скорее всего вы будете не единственным, кто это нашел, поэтому чтобы исключить подозрение в плагиате, необходима ссылка на источник). \n",
    "\n",
    "Неэффективная реализация кода может негативно отразиться на оценке.\n",
    "\n",
    "\n",
    "### Формат сдачи\n",
    "Для сдачи задания переименуйте получившийся файл \\*.ipynb в соответствии со следующим форматом: *HW1_Username.ipynb*, где *Username* — Ваша фамилия и инициалы на латинице (например, *HW1_IvanovII.ipynb*). Далее отправьте этот файл на hse.cs.ml+<номер группы>@gmail.com (например, hse.cs.ml+141@gmail.com для студентов группы БПМИ-141)."
   ]
  },
  {
   "cell_type": "markdown",
   "metadata": {},
   "source": [
    "## Библиотеки для анализа данных\n",
    "\n",
    "### NumPy\n",
    "\n",
    "Во всех заданиях данного раздела запрещено использовать циклы  и list comprehensions. Под вектором и матрицей в данных заданиях понимается одномерный и двумерный numpy.array соответственно."
   ]
  },
  {
   "cell_type": "code",
   "execution_count": 1,
   "metadata": {
    "collapsed": true
   },
   "outputs": [],
   "source": [
    "import numpy as np"
   ]
  },
  {
   "cell_type": "markdown",
   "metadata": {},
   "source": [
    "**1. (0.2 балла)** Реализуйте функцию, возвращающую максимальный элемент в векторе x среди элементов, перед которыми стоит нулевой. Для x = np.array([6, 2, 0, 3, 0, 0, 5, 7, 0]) ответом является 5. Если нулевых элементов нет, функция должна возвращать None.\n"
   ]
  },
  {
   "cell_type": "code",
   "execution_count": 2,
   "metadata": {
    "collapsed": false
   },
   "outputs": [
    {
     "name": "stdout",
     "output_type": "stream",
     "text": [
      "None\n",
      "5\n"
     ]
    }
   ],
   "source": [
    "def max_element(arr):\n",
    "    vals = arr[1:][arr[:-1] == 0]\n",
    "    if len(vals) == 0:\n",
    "        return None\n",
    "    else:\n",
    "        return np.max(vals)\n",
    "print max_element(np.array([1]))\n",
    "print max_element(np.array([6, 2, 0, 3, 0, 0, 5, 7, 0]))"
   ]
  },
  {
   "cell_type": "markdown",
   "metadata": {},
   "source": [
    "**2. (0.2 балла)** Реализуйте функцию, принимающую на вход матрицу и некоторое число и возвращающую ближайший к числу элемент матрицы. Например: для X = np.arange(0,10).reshape((2, 5)) и v = 3.6 ответом будет 4."
   ]
  },
  {
   "cell_type": "code",
   "execution_count": 3,
   "metadata": {
    "collapsed": false
   },
   "outputs": [
    {
     "name": "stdout",
     "output_type": "stream",
     "text": [
      "4\n"
     ]
    }
   ],
   "source": [
    "def nearest_value(X, v):\n",
    "    idx = np.argmin(np.abs(X - v))\n",
    "    return X.reshape(-1)[idx]\n",
    "print nearest_value(np.arange(0,10).reshape((2, 5)), 3.6)"
   ]
  },
  {
   "cell_type": "markdown",
   "metadata": {},
   "source": [
    "**3. (0.2 балла)** Реализуйте функцию scale(X), которая принимает на вход матрицу и масштабирует каждый ее столбец (вычитает выборочное среднее и делит на стандартное отклонение). Убедитесь, что в функции не будет происходить деления на ноль. Протестируйте на случайной матрице (для её генерации можно использовать, например, функцию [numpy.random.randint](http://docs.scipy.org/doc/numpy/reference/generated/numpy.random.randint.html))."
   ]
  },
  {
   "cell_type": "code",
   "execution_count": 4,
   "metadata": {
    "collapsed": false
   },
   "outputs": [
    {
     "name": "stdout",
     "output_type": "stream",
     "text": [
      "[[-0.70710678 -1.41421356  0.70710678 -1.41421356 -1.41421356]\n",
      " [-0.70710678  0.70710678  0.70710678  0.70710678  0.70710678]\n",
      " [ 1.41421356  0.70710678 -1.41421356  0.70710678  0.70710678]]\n",
      "[[ 0.70710678 -1.22474487  0.70710678 -0.70710678  1.41421356  0.        ]\n",
      " [-1.41421356  1.22474487 -1.41421356  1.41421356 -0.70710678  0.        ]\n",
      " [ 0.70710678  0.          0.70710678 -0.70710678 -0.70710678  0.        ]]\n"
     ]
    }
   ],
   "source": [
    "def scale(X):\n",
    "    eps = 1e-6\n",
    "    y = X - np.mean(X, axis=0)\n",
    "    std = np.std(y, axis=0)\n",
    "    std = np.where(np.abs(std) > eps, std, [1] * len(std))\n",
    "    return y / std\n",
    "\n",
    "print scale(np.random.randint(0, 3, size=(3, 5)))\n",
    "print scale(np.hstack((np.random.randint(0, 3, size=(3, 5)), np.array([1, 1, 1]).reshape(-1, 1))))"
   ]
  },
  {
   "cell_type": "markdown",
   "metadata": {},
   "source": [
    "**4. (0.2 балла)** Реализуйте функцию, которая для заданной матрицы находит:\n",
    " - определитель\n",
    " - след\n",
    " - наименьший и наибольший элементы\n",
    " - норму Фробениуса\n",
    " - собственные числа\n",
    " - обратную матрицу\n",
    "\n",
    "Для тестирования сгенерируйте матрицу с |лементами из нормального распределения $\\mathcal{N}$(10,1)"
   ]
  },
  {
   "cell_type": "code",
   "execution_count": 5,
   "metadata": {
    "collapsed": false
   },
   "outputs": [
    {
     "name": "stdout",
     "output_type": "stream",
     "text": [
      "[[ 10.30633576  11.12909783   9.08432289   9.50718301   8.46059144]\n",
      " [ 10.12750527   8.92458178  10.96282874  11.90474012   8.13796042]\n",
      " [  9.35065644  11.17385329  11.04206253  11.05919778  10.58658503]\n",
      " [ 10.38936424   9.56232229  11.74106839  10.70718057  11.10899684]\n",
      " [  8.59726705  11.00644269   9.78386272  10.39264635  10.9125864 ]]\n",
      "259.90599916800454\n",
      "51.892747043835804\n",
      "11.904740123715753\n",
      "8.1379604214600239\n",
      "51.445795414709238\n",
      "array([ 51.25329064+0.j        ,   2.30995597+0.j        ,\n",
      "        -1.10853043+1.66964044j,  -1.10853043-1.66964044j,   0.54656129+0.j        ])\n",
      "array([[ 0.29515963,  0.06428596, -0.74642315,  0.26905016,  0.17345229],\n",
      "       [ 0.14320192, -0.18823546,  0.62397482, -0.27618342, -0.29483037],\n",
      "       [-0.12663717, -0.26481896,  1.30377066,  0.07822195, -1.04878298],\n",
      "       [-0.1769539 ,  0.44938604, -0.59061721, -0.26205788,  0.64181561],\n",
      "       [-0.09490783, -0.05133876, -0.64772741,  0.24603361,  0.58142073]])\n"
     ]
    }
   ],
   "source": [
    "def get_stats(X):\n",
    "    return (np.linalg.det(X), np.trace(X), np.max(X), np.min(X), \n",
    "            np.linalg.norm(X), np.linalg.eigvals(X), np.linalg.inv(X))\n",
    "X = np.random.randn(5, 5) + 10\n",
    "print X\n",
    "print '\\n'.join(repr(x) for x in get_stats(X))"
   ]
  },
  {
   "cell_type": "markdown",
   "metadata": {},
   "source": [
    "**5. (0.2 балла)** Повторите 100 раз следующий эксперимент: сгенерируйте две матрицы размера 10×10 из стандартного нормального распределения, перемножьте их (как матрицы) и найдите максимальный элемент. Какое среднее значение по экспериментам у максимальных элементов? 95-процентная квантиль?"
   ]
  },
  {
   "cell_type": "code",
   "execution_count": 6,
   "metadata": {
    "collapsed": false
   },
   "outputs": [
    {
     "name": "stdout",
     "output_type": "stream",
     "text": [
      "mean value over experiments is 8.17614038575\n",
      "standard deviation over experiments is 1.72273771866\n",
      "95% percentile: 11.5542365691\n"
     ]
    }
   ],
   "source": [
    "values = [np.max(np.random.randn(10, 10).dot(np.random.randn(10, 10))) for i in range(100)] # понятия не имею как это делать без цикла\n",
    "print 'mean value over experiments is {}'.format(np.mean(values))\n",
    "print 'standard deviation over experiments is {}'.format(np.std(values))\n",
    "print '95% percentile: {}'.format(np.percentile(values, 95))"
   ]
  },
  {
   "cell_type": "markdown",
   "metadata": {},
   "source": [
    "### Pandas\n",
    "\n",
    "![](https://metrouk2.files.wordpress.com/2015/10/panda.jpg)\n",
    "\n",
    "#### Ответьте на вопросы о данных по авиарейсам в США за январь-апрель 2008 года.\n",
    "\n",
    "[Данные](https://www.dropbox.com/s/dvfitn93obn0rql/2008.csv?dl=0) и их [описание](http://stat-computing.org/dataexpo/2009/the-data.html)"
   ]
  },
  {
   "cell_type": "code",
   "execution_count": 7,
   "metadata": {
    "collapsed": false
   },
   "outputs": [
    {
     "data": {
      "text/html": [
       "<div>\n",
       "<table border=\"1\" class=\"dataframe\">\n",
       "  <thead>\n",
       "    <tr style=\"text-align: right;\">\n",
       "      <th></th>\n",
       "      <th>Year</th>\n",
       "      <th>Month</th>\n",
       "      <th>DayofMonth</th>\n",
       "      <th>DayOfWeek</th>\n",
       "      <th>DepTime</th>\n",
       "      <th>CRSDepTime</th>\n",
       "      <th>ArrTime</th>\n",
       "      <th>CRSArrTime</th>\n",
       "      <th>UniqueCarrier</th>\n",
       "      <th>FlightNum</th>\n",
       "      <th>...</th>\n",
       "      <th>TaxiIn</th>\n",
       "      <th>TaxiOut</th>\n",
       "      <th>Cancelled</th>\n",
       "      <th>CancellationCode</th>\n",
       "      <th>Diverted</th>\n",
       "      <th>CarrierDelay</th>\n",
       "      <th>WeatherDelay</th>\n",
       "      <th>NASDelay</th>\n",
       "      <th>SecurityDelay</th>\n",
       "      <th>LateAircraftDelay</th>\n",
       "    </tr>\n",
       "  </thead>\n",
       "  <tbody>\n",
       "    <tr>\n",
       "      <th>0</th>\n",
       "      <td>2008</td>\n",
       "      <td>6</td>\n",
       "      <td>18</td>\n",
       "      <td>3</td>\n",
       "      <td>2111.0</td>\n",
       "      <td>2055</td>\n",
       "      <td>2308.0</td>\n",
       "      <td>2300</td>\n",
       "      <td>WN</td>\n",
       "      <td>242</td>\n",
       "      <td>...</td>\n",
       "      <td>3.0</td>\n",
       "      <td>8.0</td>\n",
       "      <td>0</td>\n",
       "      <td>NaN</td>\n",
       "      <td>0</td>\n",
       "      <td>NaN</td>\n",
       "      <td>NaN</td>\n",
       "      <td>NaN</td>\n",
       "      <td>NaN</td>\n",
       "      <td>NaN</td>\n",
       "    </tr>\n",
       "    <tr>\n",
       "      <th>1</th>\n",
       "      <td>2008</td>\n",
       "      <td>6</td>\n",
       "      <td>4</td>\n",
       "      <td>3</td>\n",
       "      <td>1426.0</td>\n",
       "      <td>1410</td>\n",
       "      <td>1730.0</td>\n",
       "      <td>1728</td>\n",
       "      <td>XE</td>\n",
       "      <td>2380</td>\n",
       "      <td>...</td>\n",
       "      <td>4.0</td>\n",
       "      <td>12.0</td>\n",
       "      <td>0</td>\n",
       "      <td>NaN</td>\n",
       "      <td>0</td>\n",
       "      <td>NaN</td>\n",
       "      <td>NaN</td>\n",
       "      <td>NaN</td>\n",
       "      <td>NaN</td>\n",
       "      <td>NaN</td>\n",
       "    </tr>\n",
       "    <tr>\n",
       "      <th>2</th>\n",
       "      <td>2008</td>\n",
       "      <td>8</td>\n",
       "      <td>3</td>\n",
       "      <td>7</td>\n",
       "      <td>1143.0</td>\n",
       "      <td>1145</td>\n",
       "      <td>1501.0</td>\n",
       "      <td>1520</td>\n",
       "      <td>WN</td>\n",
       "      <td>1769</td>\n",
       "      <td>...</td>\n",
       "      <td>4.0</td>\n",
       "      <td>9.0</td>\n",
       "      <td>0</td>\n",
       "      <td>NaN</td>\n",
       "      <td>0</td>\n",
       "      <td>NaN</td>\n",
       "      <td>NaN</td>\n",
       "      <td>NaN</td>\n",
       "      <td>NaN</td>\n",
       "      <td>NaN</td>\n",
       "    </tr>\n",
       "    <tr>\n",
       "      <th>3</th>\n",
       "      <td>2008</td>\n",
       "      <td>1</td>\n",
       "      <td>23</td>\n",
       "      <td>3</td>\n",
       "      <td>1141.0</td>\n",
       "      <td>1144</td>\n",
       "      <td>1323.0</td>\n",
       "      <td>1335</td>\n",
       "      <td>OO</td>\n",
       "      <td>3802</td>\n",
       "      <td>...</td>\n",
       "      <td>4.0</td>\n",
       "      <td>19.0</td>\n",
       "      <td>0</td>\n",
       "      <td>NaN</td>\n",
       "      <td>0</td>\n",
       "      <td>NaN</td>\n",
       "      <td>NaN</td>\n",
       "      <td>NaN</td>\n",
       "      <td>NaN</td>\n",
       "      <td>NaN</td>\n",
       "    </tr>\n",
       "    <tr>\n",
       "      <th>4</th>\n",
       "      <td>2008</td>\n",
       "      <td>5</td>\n",
       "      <td>4</td>\n",
       "      <td>7</td>\n",
       "      <td>815.0</td>\n",
       "      <td>820</td>\n",
       "      <td>1243.0</td>\n",
       "      <td>1300</td>\n",
       "      <td>WN</td>\n",
       "      <td>399</td>\n",
       "      <td>...</td>\n",
       "      <td>4.0</td>\n",
       "      <td>8.0</td>\n",
       "      <td>0</td>\n",
       "      <td>NaN</td>\n",
       "      <td>0</td>\n",
       "      <td>NaN</td>\n",
       "      <td>NaN</td>\n",
       "      <td>NaN</td>\n",
       "      <td>NaN</td>\n",
       "      <td>NaN</td>\n",
       "    </tr>\n",
       "    <tr>\n",
       "      <th>5</th>\n",
       "      <td>2008</td>\n",
       "      <td>1</td>\n",
       "      <td>3</td>\n",
       "      <td>4</td>\n",
       "      <td>1349.0</td>\n",
       "      <td>1325</td>\n",
       "      <td>1640.0</td>\n",
       "      <td>1609</td>\n",
       "      <td>B6</td>\n",
       "      <td>834</td>\n",
       "      <td>...</td>\n",
       "      <td>5.0</td>\n",
       "      <td>13.0</td>\n",
       "      <td>0</td>\n",
       "      <td>NaN</td>\n",
       "      <td>0</td>\n",
       "      <td>13.0</td>\n",
       "      <td>0.0</td>\n",
       "      <td>7.0</td>\n",
       "      <td>0.0</td>\n",
       "      <td>11.0</td>\n",
       "    </tr>\n",
       "    <tr>\n",
       "      <th>6</th>\n",
       "      <td>2008</td>\n",
       "      <td>3</td>\n",
       "      <td>31</td>\n",
       "      <td>1</td>\n",
       "      <td>1359.0</td>\n",
       "      <td>1400</td>\n",
       "      <td>1413.0</td>\n",
       "      <td>1415</td>\n",
       "      <td>WN</td>\n",
       "      <td>1589</td>\n",
       "      <td>...</td>\n",
       "      <td>5.0</td>\n",
       "      <td>14.0</td>\n",
       "      <td>0</td>\n",
       "      <td>NaN</td>\n",
       "      <td>0</td>\n",
       "      <td>NaN</td>\n",
       "      <td>NaN</td>\n",
       "      <td>NaN</td>\n",
       "      <td>NaN</td>\n",
       "      <td>NaN</td>\n",
       "    </tr>\n",
       "    <tr>\n",
       "      <th>7</th>\n",
       "      <td>2008</td>\n",
       "      <td>4</td>\n",
       "      <td>22</td>\n",
       "      <td>2</td>\n",
       "      <td>1815.0</td>\n",
       "      <td>1820</td>\n",
       "      <td>2057.0</td>\n",
       "      <td>2131</td>\n",
       "      <td>DL</td>\n",
       "      <td>617</td>\n",
       "      <td>...</td>\n",
       "      <td>9.0</td>\n",
       "      <td>31.0</td>\n",
       "      <td>0</td>\n",
       "      <td>NaN</td>\n",
       "      <td>0</td>\n",
       "      <td>NaN</td>\n",
       "      <td>NaN</td>\n",
       "      <td>NaN</td>\n",
       "      <td>NaN</td>\n",
       "      <td>NaN</td>\n",
       "    </tr>\n",
       "    <tr>\n",
       "      <th>8</th>\n",
       "      <td>2008</td>\n",
       "      <td>3</td>\n",
       "      <td>4</td>\n",
       "      <td>2</td>\n",
       "      <td>626.0</td>\n",
       "      <td>630</td>\n",
       "      <td>820.0</td>\n",
       "      <td>830</td>\n",
       "      <td>WN</td>\n",
       "      <td>454</td>\n",
       "      <td>...</td>\n",
       "      <td>4.0</td>\n",
       "      <td>6.0</td>\n",
       "      <td>0</td>\n",
       "      <td>NaN</td>\n",
       "      <td>0</td>\n",
       "      <td>NaN</td>\n",
       "      <td>NaN</td>\n",
       "      <td>NaN</td>\n",
       "      <td>NaN</td>\n",
       "      <td>NaN</td>\n",
       "    </tr>\n",
       "    <tr>\n",
       "      <th>9</th>\n",
       "      <td>2008</td>\n",
       "      <td>10</td>\n",
       "      <td>6</td>\n",
       "      <td>1</td>\n",
       "      <td>1905.0</td>\n",
       "      <td>1907</td>\n",
       "      <td>24.0</td>\n",
       "      <td>37</td>\n",
       "      <td>UA</td>\n",
       "      <td>270</td>\n",
       "      <td>...</td>\n",
       "      <td>6.0</td>\n",
       "      <td>16.0</td>\n",
       "      <td>0</td>\n",
       "      <td>NaN</td>\n",
       "      <td>0</td>\n",
       "      <td>NaN</td>\n",
       "      <td>NaN</td>\n",
       "      <td>NaN</td>\n",
       "      <td>NaN</td>\n",
       "      <td>NaN</td>\n",
       "    </tr>\n",
       "    <tr>\n",
       "      <th>10</th>\n",
       "      <td>2008</td>\n",
       "      <td>11</td>\n",
       "      <td>16</td>\n",
       "      <td>7</td>\n",
       "      <td>2042.0</td>\n",
       "      <td>2000</td>\n",
       "      <td>35.0</td>\n",
       "      <td>2355</td>\n",
       "      <td>WN</td>\n",
       "      <td>3596</td>\n",
       "      <td>...</td>\n",
       "      <td>5.0</td>\n",
       "      <td>22.0</td>\n",
       "      <td>0</td>\n",
       "      <td>NaN</td>\n",
       "      <td>0</td>\n",
       "      <td>40.0</td>\n",
       "      <td>0.0</td>\n",
       "      <td>0.0</td>\n",
       "      <td>0.0</td>\n",
       "      <td>0.0</td>\n",
       "    </tr>\n",
       "    <tr>\n",
       "      <th>11</th>\n",
       "      <td>2008</td>\n",
       "      <td>3</td>\n",
       "      <td>6</td>\n",
       "      <td>4</td>\n",
       "      <td>NaN</td>\n",
       "      <td>1605</td>\n",
       "      <td>NaN</td>\n",
       "      <td>1940</td>\n",
       "      <td>AA</td>\n",
       "      <td>484</td>\n",
       "      <td>...</td>\n",
       "      <td>NaN</td>\n",
       "      <td>NaN</td>\n",
       "      <td>1</td>\n",
       "      <td>B</td>\n",
       "      <td>0</td>\n",
       "      <td>NaN</td>\n",
       "      <td>NaN</td>\n",
       "      <td>NaN</td>\n",
       "      <td>NaN</td>\n",
       "      <td>NaN</td>\n",
       "    </tr>\n",
       "    <tr>\n",
       "      <th>12</th>\n",
       "      <td>2008</td>\n",
       "      <td>12</td>\n",
       "      <td>23</td>\n",
       "      <td>2</td>\n",
       "      <td>1101.0</td>\n",
       "      <td>1050</td>\n",
       "      <td>1554.0</td>\n",
       "      <td>1535</td>\n",
       "      <td>FL</td>\n",
       "      <td>52</td>\n",
       "      <td>...</td>\n",
       "      <td>4.0</td>\n",
       "      <td>11.0</td>\n",
       "      <td>0</td>\n",
       "      <td>NaN</td>\n",
       "      <td>0</td>\n",
       "      <td>11.0</td>\n",
       "      <td>0.0</td>\n",
       "      <td>8.0</td>\n",
       "      <td>0.0</td>\n",
       "      <td>0.0</td>\n",
       "    </tr>\n",
       "    <tr>\n",
       "      <th>13</th>\n",
       "      <td>2008</td>\n",
       "      <td>7</td>\n",
       "      <td>15</td>\n",
       "      <td>2</td>\n",
       "      <td>1348.0</td>\n",
       "      <td>1355</td>\n",
       "      <td>1522.0</td>\n",
       "      <td>1533</td>\n",
       "      <td>EV</td>\n",
       "      <td>4186</td>\n",
       "      <td>...</td>\n",
       "      <td>4.0</td>\n",
       "      <td>21.0</td>\n",
       "      <td>0</td>\n",
       "      <td>NaN</td>\n",
       "      <td>0</td>\n",
       "      <td>NaN</td>\n",
       "      <td>NaN</td>\n",
       "      <td>NaN</td>\n",
       "      <td>NaN</td>\n",
       "      <td>NaN</td>\n",
       "    </tr>\n",
       "    <tr>\n",
       "      <th>14</th>\n",
       "      <td>2008</td>\n",
       "      <td>1</td>\n",
       "      <td>29</td>\n",
       "      <td>2</td>\n",
       "      <td>1528.0</td>\n",
       "      <td>1510</td>\n",
       "      <td>1630.0</td>\n",
       "      <td>1620</td>\n",
       "      <td>WN</td>\n",
       "      <td>3589</td>\n",
       "      <td>...</td>\n",
       "      <td>4.0</td>\n",
       "      <td>8.0</td>\n",
       "      <td>0</td>\n",
       "      <td>NaN</td>\n",
       "      <td>0</td>\n",
       "      <td>NaN</td>\n",
       "      <td>NaN</td>\n",
       "      <td>NaN</td>\n",
       "      <td>NaN</td>\n",
       "      <td>NaN</td>\n",
       "    </tr>\n",
       "    <tr>\n",
       "      <th>15</th>\n",
       "      <td>2008</td>\n",
       "      <td>11</td>\n",
       "      <td>13</td>\n",
       "      <td>4</td>\n",
       "      <td>1651.0</td>\n",
       "      <td>1700</td>\n",
       "      <td>1900.0</td>\n",
       "      <td>1909</td>\n",
       "      <td>XE</td>\n",
       "      <td>2271</td>\n",
       "      <td>...</td>\n",
       "      <td>13.0</td>\n",
       "      <td>15.0</td>\n",
       "      <td>0</td>\n",
       "      <td>NaN</td>\n",
       "      <td>0</td>\n",
       "      <td>NaN</td>\n",
       "      <td>NaN</td>\n",
       "      <td>NaN</td>\n",
       "      <td>NaN</td>\n",
       "      <td>NaN</td>\n",
       "    </tr>\n",
       "    <tr>\n",
       "      <th>16</th>\n",
       "      <td>2008</td>\n",
       "      <td>7</td>\n",
       "      <td>5</td>\n",
       "      <td>6</td>\n",
       "      <td>557.0</td>\n",
       "      <td>600</td>\n",
       "      <td>918.0</td>\n",
       "      <td>921</td>\n",
       "      <td>UA</td>\n",
       "      <td>532</td>\n",
       "      <td>...</td>\n",
       "      <td>6.0</td>\n",
       "      <td>18.0</td>\n",
       "      <td>0</td>\n",
       "      <td>NaN</td>\n",
       "      <td>0</td>\n",
       "      <td>NaN</td>\n",
       "      <td>NaN</td>\n",
       "      <td>NaN</td>\n",
       "      <td>NaN</td>\n",
       "      <td>NaN</td>\n",
       "    </tr>\n",
       "    <tr>\n",
       "      <th>17</th>\n",
       "      <td>2008</td>\n",
       "      <td>7</td>\n",
       "      <td>8</td>\n",
       "      <td>2</td>\n",
       "      <td>1951.0</td>\n",
       "      <td>1950</td>\n",
       "      <td>2203.0</td>\n",
       "      <td>2111</td>\n",
       "      <td>US</td>\n",
       "      <td>1632</td>\n",
       "      <td>...</td>\n",
       "      <td>8.0</td>\n",
       "      <td>65.0</td>\n",
       "      <td>0</td>\n",
       "      <td>NaN</td>\n",
       "      <td>0</td>\n",
       "      <td>0.0</td>\n",
       "      <td>1.0</td>\n",
       "      <td>51.0</td>\n",
       "      <td>0.0</td>\n",
       "      <td>0.0</td>\n",
       "    </tr>\n",
       "    <tr>\n",
       "      <th>18</th>\n",
       "      <td>2008</td>\n",
       "      <td>8</td>\n",
       "      <td>17</td>\n",
       "      <td>7</td>\n",
       "      <td>2005.0</td>\n",
       "      <td>1945</td>\n",
       "      <td>103.0</td>\n",
       "      <td>55</td>\n",
       "      <td>WN</td>\n",
       "      <td>101</td>\n",
       "      <td>...</td>\n",
       "      <td>4.0</td>\n",
       "      <td>11.0</td>\n",
       "      <td>0</td>\n",
       "      <td>NaN</td>\n",
       "      <td>0</td>\n",
       "      <td>NaN</td>\n",
       "      <td>NaN</td>\n",
       "      <td>NaN</td>\n",
       "      <td>NaN</td>\n",
       "      <td>NaN</td>\n",
       "    </tr>\n",
       "    <tr>\n",
       "      <th>19</th>\n",
       "      <td>2008</td>\n",
       "      <td>5</td>\n",
       "      <td>2</td>\n",
       "      <td>5</td>\n",
       "      <td>1044.0</td>\n",
       "      <td>1045</td>\n",
       "      <td>1535.0</td>\n",
       "      <td>1545</td>\n",
       "      <td>AA</td>\n",
       "      <td>2300</td>\n",
       "      <td>...</td>\n",
       "      <td>6.0</td>\n",
       "      <td>20.0</td>\n",
       "      <td>0</td>\n",
       "      <td>NaN</td>\n",
       "      <td>0</td>\n",
       "      <td>NaN</td>\n",
       "      <td>NaN</td>\n",
       "      <td>NaN</td>\n",
       "      <td>NaN</td>\n",
       "      <td>NaN</td>\n",
       "    </tr>\n",
       "    <tr>\n",
       "      <th>20</th>\n",
       "      <td>2008</td>\n",
       "      <td>5</td>\n",
       "      <td>19</td>\n",
       "      <td>1</td>\n",
       "      <td>906.0</td>\n",
       "      <td>913</td>\n",
       "      <td>927.0</td>\n",
       "      <td>929</td>\n",
       "      <td>NW</td>\n",
       "      <td>1405</td>\n",
       "      <td>...</td>\n",
       "      <td>6.0</td>\n",
       "      <td>20.0</td>\n",
       "      <td>0</td>\n",
       "      <td>NaN</td>\n",
       "      <td>0</td>\n",
       "      <td>NaN</td>\n",
       "      <td>NaN</td>\n",
       "      <td>NaN</td>\n",
       "      <td>NaN</td>\n",
       "      <td>NaN</td>\n",
       "    </tr>\n",
       "    <tr>\n",
       "      <th>21</th>\n",
       "      <td>2008</td>\n",
       "      <td>8</td>\n",
       "      <td>2</td>\n",
       "      <td>6</td>\n",
       "      <td>942.0</td>\n",
       "      <td>945</td>\n",
       "      <td>1202.0</td>\n",
       "      <td>1159</td>\n",
       "      <td>FL</td>\n",
       "      <td>15</td>\n",
       "      <td>...</td>\n",
       "      <td>13.0</td>\n",
       "      <td>13.0</td>\n",
       "      <td>0</td>\n",
       "      <td>NaN</td>\n",
       "      <td>0</td>\n",
       "      <td>NaN</td>\n",
       "      <td>NaN</td>\n",
       "      <td>NaN</td>\n",
       "      <td>NaN</td>\n",
       "      <td>NaN</td>\n",
       "    </tr>\n",
       "    <tr>\n",
       "      <th>22</th>\n",
       "      <td>2008</td>\n",
       "      <td>1</td>\n",
       "      <td>14</td>\n",
       "      <td>1</td>\n",
       "      <td>1442.0</td>\n",
       "      <td>1445</td>\n",
       "      <td>1601.0</td>\n",
       "      <td>1553</td>\n",
       "      <td>CO</td>\n",
       "      <td>1015</td>\n",
       "      <td>...</td>\n",
       "      <td>4.0</td>\n",
       "      <td>28.0</td>\n",
       "      <td>0</td>\n",
       "      <td>NaN</td>\n",
       "      <td>0</td>\n",
       "      <td>NaN</td>\n",
       "      <td>NaN</td>\n",
       "      <td>NaN</td>\n",
       "      <td>NaN</td>\n",
       "      <td>NaN</td>\n",
       "    </tr>\n",
       "    <tr>\n",
       "      <th>23</th>\n",
       "      <td>2008</td>\n",
       "      <td>5</td>\n",
       "      <td>19</td>\n",
       "      <td>1</td>\n",
       "      <td>2032.0</td>\n",
       "      <td>2000</td>\n",
       "      <td>2207.0</td>\n",
       "      <td>2146</td>\n",
       "      <td>US</td>\n",
       "      <td>1528</td>\n",
       "      <td>...</td>\n",
       "      <td>3.0</td>\n",
       "      <td>21.0</td>\n",
       "      <td>0</td>\n",
       "      <td>NaN</td>\n",
       "      <td>0</td>\n",
       "      <td>0.0</td>\n",
       "      <td>0.0</td>\n",
       "      <td>0.0</td>\n",
       "      <td>0.0</td>\n",
       "      <td>21.0</td>\n",
       "    </tr>\n",
       "    <tr>\n",
       "      <th>24</th>\n",
       "      <td>2008</td>\n",
       "      <td>5</td>\n",
       "      <td>24</td>\n",
       "      <td>6</td>\n",
       "      <td>741.0</td>\n",
       "      <td>745</td>\n",
       "      <td>1052.0</td>\n",
       "      <td>1045</td>\n",
       "      <td>AA</td>\n",
       "      <td>33</td>\n",
       "      <td>...</td>\n",
       "      <td>9.0</td>\n",
       "      <td>22.0</td>\n",
       "      <td>0</td>\n",
       "      <td>NaN</td>\n",
       "      <td>0</td>\n",
       "      <td>NaN</td>\n",
       "      <td>NaN</td>\n",
       "      <td>NaN</td>\n",
       "      <td>NaN</td>\n",
       "      <td>NaN</td>\n",
       "    </tr>\n",
       "    <tr>\n",
       "      <th>25</th>\n",
       "      <td>2008</td>\n",
       "      <td>7</td>\n",
       "      <td>19</td>\n",
       "      <td>6</td>\n",
       "      <td>901.0</td>\n",
       "      <td>900</td>\n",
       "      <td>1215.0</td>\n",
       "      <td>1225</td>\n",
       "      <td>AA</td>\n",
       "      <td>1430</td>\n",
       "      <td>...</td>\n",
       "      <td>3.0</td>\n",
       "      <td>10.0</td>\n",
       "      <td>0</td>\n",
       "      <td>NaN</td>\n",
       "      <td>0</td>\n",
       "      <td>NaN</td>\n",
       "      <td>NaN</td>\n",
       "      <td>NaN</td>\n",
       "      <td>NaN</td>\n",
       "      <td>NaN</td>\n",
       "    </tr>\n",
       "    <tr>\n",
       "      <th>26</th>\n",
       "      <td>2008</td>\n",
       "      <td>9</td>\n",
       "      <td>23</td>\n",
       "      <td>2</td>\n",
       "      <td>752.0</td>\n",
       "      <td>800</td>\n",
       "      <td>1000.0</td>\n",
       "      <td>1001</td>\n",
       "      <td>US</td>\n",
       "      <td>989</td>\n",
       "      <td>...</td>\n",
       "      <td>3.0</td>\n",
       "      <td>24.0</td>\n",
       "      <td>0</td>\n",
       "      <td>NaN</td>\n",
       "      <td>0</td>\n",
       "      <td>NaN</td>\n",
       "      <td>NaN</td>\n",
       "      <td>NaN</td>\n",
       "      <td>NaN</td>\n",
       "      <td>NaN</td>\n",
       "    </tr>\n",
       "    <tr>\n",
       "      <th>27</th>\n",
       "      <td>2008</td>\n",
       "      <td>1</td>\n",
       "      <td>22</td>\n",
       "      <td>2</td>\n",
       "      <td>1639.0</td>\n",
       "      <td>1640</td>\n",
       "      <td>1714.0</td>\n",
       "      <td>1714</td>\n",
       "      <td>HA</td>\n",
       "      <td>335</td>\n",
       "      <td>...</td>\n",
       "      <td>8.0</td>\n",
       "      <td>6.0</td>\n",
       "      <td>0</td>\n",
       "      <td>NaN</td>\n",
       "      <td>0</td>\n",
       "      <td>NaN</td>\n",
       "      <td>NaN</td>\n",
       "      <td>NaN</td>\n",
       "      <td>NaN</td>\n",
       "      <td>NaN</td>\n",
       "    </tr>\n",
       "    <tr>\n",
       "      <th>28</th>\n",
       "      <td>2008</td>\n",
       "      <td>3</td>\n",
       "      <td>24</td>\n",
       "      <td>1</td>\n",
       "      <td>1645.0</td>\n",
       "      <td>1645</td>\n",
       "      <td>1930.0</td>\n",
       "      <td>1940</td>\n",
       "      <td>YV</td>\n",
       "      <td>7230</td>\n",
       "      <td>...</td>\n",
       "      <td>7.0</td>\n",
       "      <td>12.0</td>\n",
       "      <td>0</td>\n",
       "      <td>NaN</td>\n",
       "      <td>0</td>\n",
       "      <td>NaN</td>\n",
       "      <td>NaN</td>\n",
       "      <td>NaN</td>\n",
       "      <td>NaN</td>\n",
       "      <td>NaN</td>\n",
       "    </tr>\n",
       "    <tr>\n",
       "      <th>29</th>\n",
       "      <td>2008</td>\n",
       "      <td>3</td>\n",
       "      <td>24</td>\n",
       "      <td>1</td>\n",
       "      <td>811.0</td>\n",
       "      <td>815</td>\n",
       "      <td>917.0</td>\n",
       "      <td>945</td>\n",
       "      <td>YV</td>\n",
       "      <td>7293</td>\n",
       "      <td>...</td>\n",
       "      <td>5.0</td>\n",
       "      <td>14.0</td>\n",
       "      <td>0</td>\n",
       "      <td>NaN</td>\n",
       "      <td>0</td>\n",
       "      <td>NaN</td>\n",
       "      <td>NaN</td>\n",
       "      <td>NaN</td>\n",
       "      <td>NaN</td>\n",
       "      <td>NaN</td>\n",
       "    </tr>\n",
       "    <tr>\n",
       "      <th>...</th>\n",
       "      <td>...</td>\n",
       "      <td>...</td>\n",
       "      <td>...</td>\n",
       "      <td>...</td>\n",
       "      <td>...</td>\n",
       "      <td>...</td>\n",
       "      <td>...</td>\n",
       "      <td>...</td>\n",
       "      <td>...</td>\n",
       "      <td>...</td>\n",
       "      <td>...</td>\n",
       "      <td>...</td>\n",
       "      <td>...</td>\n",
       "      <td>...</td>\n",
       "      <td>...</td>\n",
       "      <td>...</td>\n",
       "      <td>...</td>\n",
       "      <td>...</td>\n",
       "      <td>...</td>\n",
       "      <td>...</td>\n",
       "      <td>...</td>\n",
       "    </tr>\n",
       "    <tr>\n",
       "      <th>69970</th>\n",
       "      <td>2008</td>\n",
       "      <td>7</td>\n",
       "      <td>10</td>\n",
       "      <td>4</td>\n",
       "      <td>937.0</td>\n",
       "      <td>935</td>\n",
       "      <td>1039.0</td>\n",
       "      <td>1043</td>\n",
       "      <td>DL</td>\n",
       "      <td>1735</td>\n",
       "      <td>...</td>\n",
       "      <td>14.0</td>\n",
       "      <td>16.0</td>\n",
       "      <td>0</td>\n",
       "      <td>NaN</td>\n",
       "      <td>0</td>\n",
       "      <td>NaN</td>\n",
       "      <td>NaN</td>\n",
       "      <td>NaN</td>\n",
       "      <td>NaN</td>\n",
       "      <td>NaN</td>\n",
       "    </tr>\n",
       "    <tr>\n",
       "      <th>69971</th>\n",
       "      <td>2008</td>\n",
       "      <td>12</td>\n",
       "      <td>7</td>\n",
       "      <td>7</td>\n",
       "      <td>2201.0</td>\n",
       "      <td>2150</td>\n",
       "      <td>2328.0</td>\n",
       "      <td>2325</td>\n",
       "      <td>WN</td>\n",
       "      <td>1047</td>\n",
       "      <td>...</td>\n",
       "      <td>6.0</td>\n",
       "      <td>11.0</td>\n",
       "      <td>0</td>\n",
       "      <td>NaN</td>\n",
       "      <td>0</td>\n",
       "      <td>NaN</td>\n",
       "      <td>NaN</td>\n",
       "      <td>NaN</td>\n",
       "      <td>NaN</td>\n",
       "      <td>NaN</td>\n",
       "    </tr>\n",
       "    <tr>\n",
       "      <th>69972</th>\n",
       "      <td>2008</td>\n",
       "      <td>4</td>\n",
       "      <td>9</td>\n",
       "      <td>3</td>\n",
       "      <td>855.0</td>\n",
       "      <td>845</td>\n",
       "      <td>1603.0</td>\n",
       "      <td>1615</td>\n",
       "      <td>US</td>\n",
       "      <td>183</td>\n",
       "      <td>...</td>\n",
       "      <td>9.0</td>\n",
       "      <td>13.0</td>\n",
       "      <td>0</td>\n",
       "      <td>NaN</td>\n",
       "      <td>0</td>\n",
       "      <td>NaN</td>\n",
       "      <td>NaN</td>\n",
       "      <td>NaN</td>\n",
       "      <td>NaN</td>\n",
       "      <td>NaN</td>\n",
       "    </tr>\n",
       "    <tr>\n",
       "      <th>69973</th>\n",
       "      <td>2008</td>\n",
       "      <td>3</td>\n",
       "      <td>22</td>\n",
       "      <td>6</td>\n",
       "      <td>1303.0</td>\n",
       "      <td>1306</td>\n",
       "      <td>1333.0</td>\n",
       "      <td>1335</td>\n",
       "      <td>HA</td>\n",
       "      <td>179</td>\n",
       "      <td>...</td>\n",
       "      <td>5.0</td>\n",
       "      <td>7.0</td>\n",
       "      <td>0</td>\n",
       "      <td>NaN</td>\n",
       "      <td>0</td>\n",
       "      <td>NaN</td>\n",
       "      <td>NaN</td>\n",
       "      <td>NaN</td>\n",
       "      <td>NaN</td>\n",
       "      <td>NaN</td>\n",
       "    </tr>\n",
       "    <tr>\n",
       "      <th>69974</th>\n",
       "      <td>2008</td>\n",
       "      <td>8</td>\n",
       "      <td>19</td>\n",
       "      <td>2</td>\n",
       "      <td>1259.0</td>\n",
       "      <td>1300</td>\n",
       "      <td>1456.0</td>\n",
       "      <td>1502</td>\n",
       "      <td>XE</td>\n",
       "      <td>2476</td>\n",
       "      <td>...</td>\n",
       "      <td>5.0</td>\n",
       "      <td>26.0</td>\n",
       "      <td>0</td>\n",
       "      <td>NaN</td>\n",
       "      <td>0</td>\n",
       "      <td>NaN</td>\n",
       "      <td>NaN</td>\n",
       "      <td>NaN</td>\n",
       "      <td>NaN</td>\n",
       "      <td>NaN</td>\n",
       "    </tr>\n",
       "    <tr>\n",
       "      <th>69975</th>\n",
       "      <td>2008</td>\n",
       "      <td>4</td>\n",
       "      <td>20</td>\n",
       "      <td>7</td>\n",
       "      <td>1840.0</td>\n",
       "      <td>1810</td>\n",
       "      <td>1929.0</td>\n",
       "      <td>1905</td>\n",
       "      <td>WN</td>\n",
       "      <td>2194</td>\n",
       "      <td>...</td>\n",
       "      <td>3.0</td>\n",
       "      <td>5.0</td>\n",
       "      <td>0</td>\n",
       "      <td>NaN</td>\n",
       "      <td>0</td>\n",
       "      <td>0.0</td>\n",
       "      <td>0.0</td>\n",
       "      <td>0.0</td>\n",
       "      <td>1.0</td>\n",
       "      <td>23.0</td>\n",
       "    </tr>\n",
       "    <tr>\n",
       "      <th>69976</th>\n",
       "      <td>2008</td>\n",
       "      <td>12</td>\n",
       "      <td>31</td>\n",
       "      <td>3</td>\n",
       "      <td>2011.0</td>\n",
       "      <td>2012</td>\n",
       "      <td>2122.0</td>\n",
       "      <td>2137</td>\n",
       "      <td>EV</td>\n",
       "      <td>5060</td>\n",
       "      <td>...</td>\n",
       "      <td>2.0</td>\n",
       "      <td>14.0</td>\n",
       "      <td>0</td>\n",
       "      <td>NaN</td>\n",
       "      <td>0</td>\n",
       "      <td>NaN</td>\n",
       "      <td>NaN</td>\n",
       "      <td>NaN</td>\n",
       "      <td>NaN</td>\n",
       "      <td>NaN</td>\n",
       "    </tr>\n",
       "    <tr>\n",
       "      <th>69977</th>\n",
       "      <td>2008</td>\n",
       "      <td>4</td>\n",
       "      <td>6</td>\n",
       "      <td>7</td>\n",
       "      <td>840.0</td>\n",
       "      <td>835</td>\n",
       "      <td>1106.0</td>\n",
       "      <td>1057</td>\n",
       "      <td>US</td>\n",
       "      <td>1159</td>\n",
       "      <td>...</td>\n",
       "      <td>5.0</td>\n",
       "      <td>21.0</td>\n",
       "      <td>0</td>\n",
       "      <td>NaN</td>\n",
       "      <td>0</td>\n",
       "      <td>NaN</td>\n",
       "      <td>NaN</td>\n",
       "      <td>NaN</td>\n",
       "      <td>NaN</td>\n",
       "      <td>NaN</td>\n",
       "    </tr>\n",
       "    <tr>\n",
       "      <th>69978</th>\n",
       "      <td>2008</td>\n",
       "      <td>12</td>\n",
       "      <td>9</td>\n",
       "      <td>2</td>\n",
       "      <td>726.0</td>\n",
       "      <td>731</td>\n",
       "      <td>NaN</td>\n",
       "      <td>745</td>\n",
       "      <td>9E</td>\n",
       "      <td>2276</td>\n",
       "      <td>...</td>\n",
       "      <td>NaN</td>\n",
       "      <td>10.0</td>\n",
       "      <td>0</td>\n",
       "      <td>NaN</td>\n",
       "      <td>1</td>\n",
       "      <td>NaN</td>\n",
       "      <td>NaN</td>\n",
       "      <td>NaN</td>\n",
       "      <td>NaN</td>\n",
       "      <td>NaN</td>\n",
       "    </tr>\n",
       "    <tr>\n",
       "      <th>69979</th>\n",
       "      <td>2008</td>\n",
       "      <td>12</td>\n",
       "      <td>2</td>\n",
       "      <td>2</td>\n",
       "      <td>908.0</td>\n",
       "      <td>915</td>\n",
       "      <td>1055.0</td>\n",
       "      <td>1105</td>\n",
       "      <td>EV</td>\n",
       "      <td>5008</td>\n",
       "      <td>...</td>\n",
       "      <td>10.0</td>\n",
       "      <td>6.0</td>\n",
       "      <td>0</td>\n",
       "      <td>NaN</td>\n",
       "      <td>0</td>\n",
       "      <td>NaN</td>\n",
       "      <td>NaN</td>\n",
       "      <td>NaN</td>\n",
       "      <td>NaN</td>\n",
       "      <td>NaN</td>\n",
       "    </tr>\n",
       "    <tr>\n",
       "      <th>69980</th>\n",
       "      <td>2008</td>\n",
       "      <td>5</td>\n",
       "      <td>12</td>\n",
       "      <td>1</td>\n",
       "      <td>1155.0</td>\n",
       "      <td>1140</td>\n",
       "      <td>1419.0</td>\n",
       "      <td>1355</td>\n",
       "      <td>AA</td>\n",
       "      <td>413</td>\n",
       "      <td>...</td>\n",
       "      <td>7.0</td>\n",
       "      <td>14.0</td>\n",
       "      <td>0</td>\n",
       "      <td>NaN</td>\n",
       "      <td>0</td>\n",
       "      <td>15.0</td>\n",
       "      <td>0.0</td>\n",
       "      <td>9.0</td>\n",
       "      <td>0.0</td>\n",
       "      <td>0.0</td>\n",
       "    </tr>\n",
       "    <tr>\n",
       "      <th>69981</th>\n",
       "      <td>2008</td>\n",
       "      <td>1</td>\n",
       "      <td>2</td>\n",
       "      <td>3</td>\n",
       "      <td>1122.0</td>\n",
       "      <td>1048</td>\n",
       "      <td>1302.0</td>\n",
       "      <td>1236</td>\n",
       "      <td>OH</td>\n",
       "      <td>5353</td>\n",
       "      <td>...</td>\n",
       "      <td>1.0</td>\n",
       "      <td>15.0</td>\n",
       "      <td>0</td>\n",
       "      <td>NaN</td>\n",
       "      <td>0</td>\n",
       "      <td>0.0</td>\n",
       "      <td>26.0</td>\n",
       "      <td>0.0</td>\n",
       "      <td>0.0</td>\n",
       "      <td>0.0</td>\n",
       "    </tr>\n",
       "    <tr>\n",
       "      <th>69982</th>\n",
       "      <td>2008</td>\n",
       "      <td>6</td>\n",
       "      <td>13</td>\n",
       "      <td>5</td>\n",
       "      <td>1351.0</td>\n",
       "      <td>1400</td>\n",
       "      <td>1701.0</td>\n",
       "      <td>1719</td>\n",
       "      <td>NW</td>\n",
       "      <td>1272</td>\n",
       "      <td>...</td>\n",
       "      <td>6.0</td>\n",
       "      <td>16.0</td>\n",
       "      <td>0</td>\n",
       "      <td>NaN</td>\n",
       "      <td>0</td>\n",
       "      <td>NaN</td>\n",
       "      <td>NaN</td>\n",
       "      <td>NaN</td>\n",
       "      <td>NaN</td>\n",
       "      <td>NaN</td>\n",
       "    </tr>\n",
       "    <tr>\n",
       "      <th>69983</th>\n",
       "      <td>2008</td>\n",
       "      <td>9</td>\n",
       "      <td>2</td>\n",
       "      <td>2</td>\n",
       "      <td>1351.0</td>\n",
       "      <td>1355</td>\n",
       "      <td>1352.0</td>\n",
       "      <td>1410</td>\n",
       "      <td>MQ</td>\n",
       "      <td>4506</td>\n",
       "      <td>...</td>\n",
       "      <td>7.0</td>\n",
       "      <td>13.0</td>\n",
       "      <td>0</td>\n",
       "      <td>NaN</td>\n",
       "      <td>0</td>\n",
       "      <td>NaN</td>\n",
       "      <td>NaN</td>\n",
       "      <td>NaN</td>\n",
       "      <td>NaN</td>\n",
       "      <td>NaN</td>\n",
       "    </tr>\n",
       "    <tr>\n",
       "      <th>69984</th>\n",
       "      <td>2008</td>\n",
       "      <td>10</td>\n",
       "      <td>4</td>\n",
       "      <td>6</td>\n",
       "      <td>605.0</td>\n",
       "      <td>615</td>\n",
       "      <td>657.0</td>\n",
       "      <td>700</td>\n",
       "      <td>MQ</td>\n",
       "      <td>3110</td>\n",
       "      <td>...</td>\n",
       "      <td>4.0</td>\n",
       "      <td>25.0</td>\n",
       "      <td>0</td>\n",
       "      <td>NaN</td>\n",
       "      <td>0</td>\n",
       "      <td>NaN</td>\n",
       "      <td>NaN</td>\n",
       "      <td>NaN</td>\n",
       "      <td>NaN</td>\n",
       "      <td>NaN</td>\n",
       "    </tr>\n",
       "    <tr>\n",
       "      <th>69985</th>\n",
       "      <td>2008</td>\n",
       "      <td>12</td>\n",
       "      <td>11</td>\n",
       "      <td>4</td>\n",
       "      <td>615.0</td>\n",
       "      <td>618</td>\n",
       "      <td>745.0</td>\n",
       "      <td>803</td>\n",
       "      <td>UA</td>\n",
       "      <td>73</td>\n",
       "      <td>...</td>\n",
       "      <td>5.0</td>\n",
       "      <td>22.0</td>\n",
       "      <td>0</td>\n",
       "      <td>NaN</td>\n",
       "      <td>0</td>\n",
       "      <td>NaN</td>\n",
       "      <td>NaN</td>\n",
       "      <td>NaN</td>\n",
       "      <td>NaN</td>\n",
       "      <td>NaN</td>\n",
       "    </tr>\n",
       "    <tr>\n",
       "      <th>69986</th>\n",
       "      <td>2008</td>\n",
       "      <td>12</td>\n",
       "      <td>4</td>\n",
       "      <td>4</td>\n",
       "      <td>1901.0</td>\n",
       "      <td>1905</td>\n",
       "      <td>1952.0</td>\n",
       "      <td>1957</td>\n",
       "      <td>HA</td>\n",
       "      <td>392</td>\n",
       "      <td>...</td>\n",
       "      <td>5.0</td>\n",
       "      <td>9.0</td>\n",
       "      <td>0</td>\n",
       "      <td>NaN</td>\n",
       "      <td>0</td>\n",
       "      <td>NaN</td>\n",
       "      <td>NaN</td>\n",
       "      <td>NaN</td>\n",
       "      <td>NaN</td>\n",
       "      <td>NaN</td>\n",
       "    </tr>\n",
       "    <tr>\n",
       "      <th>69987</th>\n",
       "      <td>2008</td>\n",
       "      <td>11</td>\n",
       "      <td>15</td>\n",
       "      <td>6</td>\n",
       "      <td>651.0</td>\n",
       "      <td>659</td>\n",
       "      <td>903.0</td>\n",
       "      <td>859</td>\n",
       "      <td>XE</td>\n",
       "      <td>2463</td>\n",
       "      <td>...</td>\n",
       "      <td>5.0</td>\n",
       "      <td>27.0</td>\n",
       "      <td>0</td>\n",
       "      <td>NaN</td>\n",
       "      <td>0</td>\n",
       "      <td>NaN</td>\n",
       "      <td>NaN</td>\n",
       "      <td>NaN</td>\n",
       "      <td>NaN</td>\n",
       "      <td>NaN</td>\n",
       "    </tr>\n",
       "    <tr>\n",
       "      <th>69988</th>\n",
       "      <td>2008</td>\n",
       "      <td>12</td>\n",
       "      <td>7</td>\n",
       "      <td>7</td>\n",
       "      <td>1324.0</td>\n",
       "      <td>1325</td>\n",
       "      <td>1419.0</td>\n",
       "      <td>1418</td>\n",
       "      <td>OH</td>\n",
       "      <td>6581</td>\n",
       "      <td>...</td>\n",
       "      <td>7.0</td>\n",
       "      <td>11.0</td>\n",
       "      <td>0</td>\n",
       "      <td>NaN</td>\n",
       "      <td>0</td>\n",
       "      <td>NaN</td>\n",
       "      <td>NaN</td>\n",
       "      <td>NaN</td>\n",
       "      <td>NaN</td>\n",
       "      <td>NaN</td>\n",
       "    </tr>\n",
       "    <tr>\n",
       "      <th>69989</th>\n",
       "      <td>2008</td>\n",
       "      <td>7</td>\n",
       "      <td>24</td>\n",
       "      <td>4</td>\n",
       "      <td>28.0</td>\n",
       "      <td>30</td>\n",
       "      <td>550.0</td>\n",
       "      <td>619</td>\n",
       "      <td>CO</td>\n",
       "      <td>284</td>\n",
       "      <td>...</td>\n",
       "      <td>5.0</td>\n",
       "      <td>10.0</td>\n",
       "      <td>0</td>\n",
       "      <td>NaN</td>\n",
       "      <td>0</td>\n",
       "      <td>NaN</td>\n",
       "      <td>NaN</td>\n",
       "      <td>NaN</td>\n",
       "      <td>NaN</td>\n",
       "      <td>NaN</td>\n",
       "    </tr>\n",
       "    <tr>\n",
       "      <th>69990</th>\n",
       "      <td>2008</td>\n",
       "      <td>12</td>\n",
       "      <td>23</td>\n",
       "      <td>2</td>\n",
       "      <td>1627.0</td>\n",
       "      <td>1630</td>\n",
       "      <td>1714.0</td>\n",
       "      <td>1715</td>\n",
       "      <td>MQ</td>\n",
       "      <td>3092</td>\n",
       "      <td>...</td>\n",
       "      <td>9.0</td>\n",
       "      <td>12.0</td>\n",
       "      <td>0</td>\n",
       "      <td>NaN</td>\n",
       "      <td>0</td>\n",
       "      <td>NaN</td>\n",
       "      <td>NaN</td>\n",
       "      <td>NaN</td>\n",
       "      <td>NaN</td>\n",
       "      <td>NaN</td>\n",
       "    </tr>\n",
       "    <tr>\n",
       "      <th>69991</th>\n",
       "      <td>2008</td>\n",
       "      <td>4</td>\n",
       "      <td>24</td>\n",
       "      <td>4</td>\n",
       "      <td>914.0</td>\n",
       "      <td>920</td>\n",
       "      <td>1235.0</td>\n",
       "      <td>1231</td>\n",
       "      <td>NW</td>\n",
       "      <td>241</td>\n",
       "      <td>...</td>\n",
       "      <td>11.0</td>\n",
       "      <td>21.0</td>\n",
       "      <td>0</td>\n",
       "      <td>NaN</td>\n",
       "      <td>0</td>\n",
       "      <td>NaN</td>\n",
       "      <td>NaN</td>\n",
       "      <td>NaN</td>\n",
       "      <td>NaN</td>\n",
       "      <td>NaN</td>\n",
       "    </tr>\n",
       "    <tr>\n",
       "      <th>69992</th>\n",
       "      <td>2008</td>\n",
       "      <td>11</td>\n",
       "      <td>4</td>\n",
       "      <td>2</td>\n",
       "      <td>754.0</td>\n",
       "      <td>801</td>\n",
       "      <td>1027.0</td>\n",
       "      <td>1039</td>\n",
       "      <td>UA</td>\n",
       "      <td>885</td>\n",
       "      <td>...</td>\n",
       "      <td>5.0</td>\n",
       "      <td>17.0</td>\n",
       "      <td>0</td>\n",
       "      <td>NaN</td>\n",
       "      <td>0</td>\n",
       "      <td>NaN</td>\n",
       "      <td>NaN</td>\n",
       "      <td>NaN</td>\n",
       "      <td>NaN</td>\n",
       "      <td>NaN</td>\n",
       "    </tr>\n",
       "    <tr>\n",
       "      <th>69993</th>\n",
       "      <td>2008</td>\n",
       "      <td>2</td>\n",
       "      <td>28</td>\n",
       "      <td>4</td>\n",
       "      <td>1410.0</td>\n",
       "      <td>1400</td>\n",
       "      <td>1501.0</td>\n",
       "      <td>1455</td>\n",
       "      <td>MQ</td>\n",
       "      <td>3547</td>\n",
       "      <td>...</td>\n",
       "      <td>5.0</td>\n",
       "      <td>14.0</td>\n",
       "      <td>0</td>\n",
       "      <td>NaN</td>\n",
       "      <td>0</td>\n",
       "      <td>NaN</td>\n",
       "      <td>NaN</td>\n",
       "      <td>NaN</td>\n",
       "      <td>NaN</td>\n",
       "      <td>NaN</td>\n",
       "    </tr>\n",
       "    <tr>\n",
       "      <th>69994</th>\n",
       "      <td>2008</td>\n",
       "      <td>1</td>\n",
       "      <td>26</td>\n",
       "      <td>6</td>\n",
       "      <td>920.0</td>\n",
       "      <td>925</td>\n",
       "      <td>1110.0</td>\n",
       "      <td>1118</td>\n",
       "      <td>OH</td>\n",
       "      <td>5218</td>\n",
       "      <td>...</td>\n",
       "      <td>12.0</td>\n",
       "      <td>13.0</td>\n",
       "      <td>0</td>\n",
       "      <td>NaN</td>\n",
       "      <td>0</td>\n",
       "      <td>NaN</td>\n",
       "      <td>NaN</td>\n",
       "      <td>NaN</td>\n",
       "      <td>NaN</td>\n",
       "      <td>NaN</td>\n",
       "    </tr>\n",
       "    <tr>\n",
       "      <th>69995</th>\n",
       "      <td>2008</td>\n",
       "      <td>5</td>\n",
       "      <td>12</td>\n",
       "      <td>1</td>\n",
       "      <td>1829.0</td>\n",
       "      <td>1840</td>\n",
       "      <td>2137.0</td>\n",
       "      <td>2149</td>\n",
       "      <td>DL</td>\n",
       "      <td>794</td>\n",
       "      <td>...</td>\n",
       "      <td>22.0</td>\n",
       "      <td>20.0</td>\n",
       "      <td>0</td>\n",
       "      <td>NaN</td>\n",
       "      <td>0</td>\n",
       "      <td>NaN</td>\n",
       "      <td>NaN</td>\n",
       "      <td>NaN</td>\n",
       "      <td>NaN</td>\n",
       "      <td>NaN</td>\n",
       "    </tr>\n",
       "    <tr>\n",
       "      <th>69996</th>\n",
       "      <td>2008</td>\n",
       "      <td>5</td>\n",
       "      <td>11</td>\n",
       "      <td>7</td>\n",
       "      <td>1149.0</td>\n",
       "      <td>1125</td>\n",
       "      <td>1336.0</td>\n",
       "      <td>1314</td>\n",
       "      <td>OO</td>\n",
       "      <td>6159</td>\n",
       "      <td>...</td>\n",
       "      <td>4.0</td>\n",
       "      <td>13.0</td>\n",
       "      <td>0</td>\n",
       "      <td>NaN</td>\n",
       "      <td>0</td>\n",
       "      <td>0.0</td>\n",
       "      <td>0.0</td>\n",
       "      <td>0.0</td>\n",
       "      <td>0.0</td>\n",
       "      <td>22.0</td>\n",
       "    </tr>\n",
       "    <tr>\n",
       "      <th>69997</th>\n",
       "      <td>2008</td>\n",
       "      <td>9</td>\n",
       "      <td>24</td>\n",
       "      <td>3</td>\n",
       "      <td>1012.0</td>\n",
       "      <td>1012</td>\n",
       "      <td>1132.0</td>\n",
       "      <td>1132</td>\n",
       "      <td>YV</td>\n",
       "      <td>7058</td>\n",
       "      <td>...</td>\n",
       "      <td>7.0</td>\n",
       "      <td>10.0</td>\n",
       "      <td>0</td>\n",
       "      <td>NaN</td>\n",
       "      <td>0</td>\n",
       "      <td>NaN</td>\n",
       "      <td>NaN</td>\n",
       "      <td>NaN</td>\n",
       "      <td>NaN</td>\n",
       "      <td>NaN</td>\n",
       "    </tr>\n",
       "    <tr>\n",
       "      <th>69998</th>\n",
       "      <td>2008</td>\n",
       "      <td>2</td>\n",
       "      <td>18</td>\n",
       "      <td>1</td>\n",
       "      <td>1906.0</td>\n",
       "      <td>1900</td>\n",
       "      <td>2200.0</td>\n",
       "      <td>2139</td>\n",
       "      <td>NW</td>\n",
       "      <td>641</td>\n",
       "      <td>...</td>\n",
       "      <td>20.0</td>\n",
       "      <td>22.0</td>\n",
       "      <td>0</td>\n",
       "      <td>NaN</td>\n",
       "      <td>0</td>\n",
       "      <td>0.0</td>\n",
       "      <td>0.0</td>\n",
       "      <td>15.0</td>\n",
       "      <td>0.0</td>\n",
       "      <td>6.0</td>\n",
       "    </tr>\n",
       "    <tr>\n",
       "      <th>69999</th>\n",
       "      <td>2008</td>\n",
       "      <td>12</td>\n",
       "      <td>6</td>\n",
       "      <td>6</td>\n",
       "      <td>859.0</td>\n",
       "      <td>900</td>\n",
       "      <td>959.0</td>\n",
       "      <td>1005</td>\n",
       "      <td>WN</td>\n",
       "      <td>510</td>\n",
       "      <td>...</td>\n",
       "      <td>2.0</td>\n",
       "      <td>12.0</td>\n",
       "      <td>0</td>\n",
       "      <td>NaN</td>\n",
       "      <td>0</td>\n",
       "      <td>NaN</td>\n",
       "      <td>NaN</td>\n",
       "      <td>NaN</td>\n",
       "      <td>NaN</td>\n",
       "      <td>NaN</td>\n",
       "    </tr>\n",
       "  </tbody>\n",
       "</table>\n",
       "<p>70000 rows × 29 columns</p>\n",
       "</div>"
      ],
      "text/plain": [
       "       Year  Month  DayofMonth  DayOfWeek  DepTime  CRSDepTime  ArrTime  \\\n",
       "0      2008      6          18          3   2111.0        2055   2308.0   \n",
       "1      2008      6           4          3   1426.0        1410   1730.0   \n",
       "2      2008      8           3          7   1143.0        1145   1501.0   \n",
       "3      2008      1          23          3   1141.0        1144   1323.0   \n",
       "4      2008      5           4          7    815.0         820   1243.0   \n",
       "5      2008      1           3          4   1349.0        1325   1640.0   \n",
       "6      2008      3          31          1   1359.0        1400   1413.0   \n",
       "7      2008      4          22          2   1815.0        1820   2057.0   \n",
       "8      2008      3           4          2    626.0         630    820.0   \n",
       "9      2008     10           6          1   1905.0        1907     24.0   \n",
       "10     2008     11          16          7   2042.0        2000     35.0   \n",
       "11     2008      3           6          4      NaN        1605      NaN   \n",
       "12     2008     12          23          2   1101.0        1050   1554.0   \n",
       "13     2008      7          15          2   1348.0        1355   1522.0   \n",
       "14     2008      1          29          2   1528.0        1510   1630.0   \n",
       "15     2008     11          13          4   1651.0        1700   1900.0   \n",
       "16     2008      7           5          6    557.0         600    918.0   \n",
       "17     2008      7           8          2   1951.0        1950   2203.0   \n",
       "18     2008      8          17          7   2005.0        1945    103.0   \n",
       "19     2008      5           2          5   1044.0        1045   1535.0   \n",
       "20     2008      5          19          1    906.0         913    927.0   \n",
       "21     2008      8           2          6    942.0         945   1202.0   \n",
       "22     2008      1          14          1   1442.0        1445   1601.0   \n",
       "23     2008      5          19          1   2032.0        2000   2207.0   \n",
       "24     2008      5          24          6    741.0         745   1052.0   \n",
       "25     2008      7          19          6    901.0         900   1215.0   \n",
       "26     2008      9          23          2    752.0         800   1000.0   \n",
       "27     2008      1          22          2   1639.0        1640   1714.0   \n",
       "28     2008      3          24          1   1645.0        1645   1930.0   \n",
       "29     2008      3          24          1    811.0         815    917.0   \n",
       "...     ...    ...         ...        ...      ...         ...      ...   \n",
       "69970  2008      7          10          4    937.0         935   1039.0   \n",
       "69971  2008     12           7          7   2201.0        2150   2328.0   \n",
       "69972  2008      4           9          3    855.0         845   1603.0   \n",
       "69973  2008      3          22          6   1303.0        1306   1333.0   \n",
       "69974  2008      8          19          2   1259.0        1300   1456.0   \n",
       "69975  2008      4          20          7   1840.0        1810   1929.0   \n",
       "69976  2008     12          31          3   2011.0        2012   2122.0   \n",
       "69977  2008      4           6          7    840.0         835   1106.0   \n",
       "69978  2008     12           9          2    726.0         731      NaN   \n",
       "69979  2008     12           2          2    908.0         915   1055.0   \n",
       "69980  2008      5          12          1   1155.0        1140   1419.0   \n",
       "69981  2008      1           2          3   1122.0        1048   1302.0   \n",
       "69982  2008      6          13          5   1351.0        1400   1701.0   \n",
       "69983  2008      9           2          2   1351.0        1355   1352.0   \n",
       "69984  2008     10           4          6    605.0         615    657.0   \n",
       "69985  2008     12          11          4    615.0         618    745.0   \n",
       "69986  2008     12           4          4   1901.0        1905   1952.0   \n",
       "69987  2008     11          15          6    651.0         659    903.0   \n",
       "69988  2008     12           7          7   1324.0        1325   1419.0   \n",
       "69989  2008      7          24          4     28.0          30    550.0   \n",
       "69990  2008     12          23          2   1627.0        1630   1714.0   \n",
       "69991  2008      4          24          4    914.0         920   1235.0   \n",
       "69992  2008     11           4          2    754.0         801   1027.0   \n",
       "69993  2008      2          28          4   1410.0        1400   1501.0   \n",
       "69994  2008      1          26          6    920.0         925   1110.0   \n",
       "69995  2008      5          12          1   1829.0        1840   2137.0   \n",
       "69996  2008      5          11          7   1149.0        1125   1336.0   \n",
       "69997  2008      9          24          3   1012.0        1012   1132.0   \n",
       "69998  2008      2          18          1   1906.0        1900   2200.0   \n",
       "69999  2008     12           6          6    859.0         900    959.0   \n",
       "\n",
       "       CRSArrTime UniqueCarrier  FlightNum        ...         TaxiIn  TaxiOut  \\\n",
       "0            2300            WN        242        ...            3.0      8.0   \n",
       "1            1728            XE       2380        ...            4.0     12.0   \n",
       "2            1520            WN       1769        ...            4.0      9.0   \n",
       "3            1335            OO       3802        ...            4.0     19.0   \n",
       "4            1300            WN        399        ...            4.0      8.0   \n",
       "5            1609            B6        834        ...            5.0     13.0   \n",
       "6            1415            WN       1589        ...            5.0     14.0   \n",
       "7            2131            DL        617        ...            9.0     31.0   \n",
       "8             830            WN        454        ...            4.0      6.0   \n",
       "9              37            UA        270        ...            6.0     16.0   \n",
       "10           2355            WN       3596        ...            5.0     22.0   \n",
       "11           1940            AA        484        ...            NaN      NaN   \n",
       "12           1535            FL         52        ...            4.0     11.0   \n",
       "13           1533            EV       4186        ...            4.0     21.0   \n",
       "14           1620            WN       3589        ...            4.0      8.0   \n",
       "15           1909            XE       2271        ...           13.0     15.0   \n",
       "16            921            UA        532        ...            6.0     18.0   \n",
       "17           2111            US       1632        ...            8.0     65.0   \n",
       "18             55            WN        101        ...            4.0     11.0   \n",
       "19           1545            AA       2300        ...            6.0     20.0   \n",
       "20            929            NW       1405        ...            6.0     20.0   \n",
       "21           1159            FL         15        ...           13.0     13.0   \n",
       "22           1553            CO       1015        ...            4.0     28.0   \n",
       "23           2146            US       1528        ...            3.0     21.0   \n",
       "24           1045            AA         33        ...            9.0     22.0   \n",
       "25           1225            AA       1430        ...            3.0     10.0   \n",
       "26           1001            US        989        ...            3.0     24.0   \n",
       "27           1714            HA        335        ...            8.0      6.0   \n",
       "28           1940            YV       7230        ...            7.0     12.0   \n",
       "29            945            YV       7293        ...            5.0     14.0   \n",
       "...           ...           ...        ...        ...            ...      ...   \n",
       "69970        1043            DL       1735        ...           14.0     16.0   \n",
       "69971        2325            WN       1047        ...            6.0     11.0   \n",
       "69972        1615            US        183        ...            9.0     13.0   \n",
       "69973        1335            HA        179        ...            5.0      7.0   \n",
       "69974        1502            XE       2476        ...            5.0     26.0   \n",
       "69975        1905            WN       2194        ...            3.0      5.0   \n",
       "69976        2137            EV       5060        ...            2.0     14.0   \n",
       "69977        1057            US       1159        ...            5.0     21.0   \n",
       "69978         745            9E       2276        ...            NaN     10.0   \n",
       "69979        1105            EV       5008        ...           10.0      6.0   \n",
       "69980        1355            AA        413        ...            7.0     14.0   \n",
       "69981        1236            OH       5353        ...            1.0     15.0   \n",
       "69982        1719            NW       1272        ...            6.0     16.0   \n",
       "69983        1410            MQ       4506        ...            7.0     13.0   \n",
       "69984         700            MQ       3110        ...            4.0     25.0   \n",
       "69985         803            UA         73        ...            5.0     22.0   \n",
       "69986        1957            HA        392        ...            5.0      9.0   \n",
       "69987         859            XE       2463        ...            5.0     27.0   \n",
       "69988        1418            OH       6581        ...            7.0     11.0   \n",
       "69989         619            CO        284        ...            5.0     10.0   \n",
       "69990        1715            MQ       3092        ...            9.0     12.0   \n",
       "69991        1231            NW        241        ...           11.0     21.0   \n",
       "69992        1039            UA        885        ...            5.0     17.0   \n",
       "69993        1455            MQ       3547        ...            5.0     14.0   \n",
       "69994        1118            OH       5218        ...           12.0     13.0   \n",
       "69995        2149            DL        794        ...           22.0     20.0   \n",
       "69996        1314            OO       6159        ...            4.0     13.0   \n",
       "69997        1132            YV       7058        ...            7.0     10.0   \n",
       "69998        2139            NW        641        ...           20.0     22.0   \n",
       "69999        1005            WN        510        ...            2.0     12.0   \n",
       "\n",
       "       Cancelled  CancellationCode  Diverted  CarrierDelay WeatherDelay  \\\n",
       "0              0               NaN         0           NaN          NaN   \n",
       "1              0               NaN         0           NaN          NaN   \n",
       "2              0               NaN         0           NaN          NaN   \n",
       "3              0               NaN         0           NaN          NaN   \n",
       "4              0               NaN         0           NaN          NaN   \n",
       "5              0               NaN         0          13.0          0.0   \n",
       "6              0               NaN         0           NaN          NaN   \n",
       "7              0               NaN         0           NaN          NaN   \n",
       "8              0               NaN         0           NaN          NaN   \n",
       "9              0               NaN         0           NaN          NaN   \n",
       "10             0               NaN         0          40.0          0.0   \n",
       "11             1                 B         0           NaN          NaN   \n",
       "12             0               NaN         0          11.0          0.0   \n",
       "13             0               NaN         0           NaN          NaN   \n",
       "14             0               NaN         0           NaN          NaN   \n",
       "15             0               NaN         0           NaN          NaN   \n",
       "16             0               NaN         0           NaN          NaN   \n",
       "17             0               NaN         0           0.0          1.0   \n",
       "18             0               NaN         0           NaN          NaN   \n",
       "19             0               NaN         0           NaN          NaN   \n",
       "20             0               NaN         0           NaN          NaN   \n",
       "21             0               NaN         0           NaN          NaN   \n",
       "22             0               NaN         0           NaN          NaN   \n",
       "23             0               NaN         0           0.0          0.0   \n",
       "24             0               NaN         0           NaN          NaN   \n",
       "25             0               NaN         0           NaN          NaN   \n",
       "26             0               NaN         0           NaN          NaN   \n",
       "27             0               NaN         0           NaN          NaN   \n",
       "28             0               NaN         0           NaN          NaN   \n",
       "29             0               NaN         0           NaN          NaN   \n",
       "...          ...               ...       ...           ...          ...   \n",
       "69970          0               NaN         0           NaN          NaN   \n",
       "69971          0               NaN         0           NaN          NaN   \n",
       "69972          0               NaN         0           NaN          NaN   \n",
       "69973          0               NaN         0           NaN          NaN   \n",
       "69974          0               NaN         0           NaN          NaN   \n",
       "69975          0               NaN         0           0.0          0.0   \n",
       "69976          0               NaN         0           NaN          NaN   \n",
       "69977          0               NaN         0           NaN          NaN   \n",
       "69978          0               NaN         1           NaN          NaN   \n",
       "69979          0               NaN         0           NaN          NaN   \n",
       "69980          0               NaN         0          15.0          0.0   \n",
       "69981          0               NaN         0           0.0         26.0   \n",
       "69982          0               NaN         0           NaN          NaN   \n",
       "69983          0               NaN         0           NaN          NaN   \n",
       "69984          0               NaN         0           NaN          NaN   \n",
       "69985          0               NaN         0           NaN          NaN   \n",
       "69986          0               NaN         0           NaN          NaN   \n",
       "69987          0               NaN         0           NaN          NaN   \n",
       "69988          0               NaN         0           NaN          NaN   \n",
       "69989          0               NaN         0           NaN          NaN   \n",
       "69990          0               NaN         0           NaN          NaN   \n",
       "69991          0               NaN         0           NaN          NaN   \n",
       "69992          0               NaN         0           NaN          NaN   \n",
       "69993          0               NaN         0           NaN          NaN   \n",
       "69994          0               NaN         0           NaN          NaN   \n",
       "69995          0               NaN         0           NaN          NaN   \n",
       "69996          0               NaN         0           0.0          0.0   \n",
       "69997          0               NaN         0           NaN          NaN   \n",
       "69998          0               NaN         0           0.0          0.0   \n",
       "69999          0               NaN         0           NaN          NaN   \n",
       "\n",
       "      NASDelay  SecurityDelay  LateAircraftDelay  \n",
       "0          NaN            NaN                NaN  \n",
       "1          NaN            NaN                NaN  \n",
       "2          NaN            NaN                NaN  \n",
       "3          NaN            NaN                NaN  \n",
       "4          NaN            NaN                NaN  \n",
       "5          7.0            0.0               11.0  \n",
       "6          NaN            NaN                NaN  \n",
       "7          NaN            NaN                NaN  \n",
       "8          NaN            NaN                NaN  \n",
       "9          NaN            NaN                NaN  \n",
       "10         0.0            0.0                0.0  \n",
       "11         NaN            NaN                NaN  \n",
       "12         8.0            0.0                0.0  \n",
       "13         NaN            NaN                NaN  \n",
       "14         NaN            NaN                NaN  \n",
       "15         NaN            NaN                NaN  \n",
       "16         NaN            NaN                NaN  \n",
       "17        51.0            0.0                0.0  \n",
       "18         NaN            NaN                NaN  \n",
       "19         NaN            NaN                NaN  \n",
       "20         NaN            NaN                NaN  \n",
       "21         NaN            NaN                NaN  \n",
       "22         NaN            NaN                NaN  \n",
       "23         0.0            0.0               21.0  \n",
       "24         NaN            NaN                NaN  \n",
       "25         NaN            NaN                NaN  \n",
       "26         NaN            NaN                NaN  \n",
       "27         NaN            NaN                NaN  \n",
       "28         NaN            NaN                NaN  \n",
       "29         NaN            NaN                NaN  \n",
       "...        ...            ...                ...  \n",
       "69970      NaN            NaN                NaN  \n",
       "69971      NaN            NaN                NaN  \n",
       "69972      NaN            NaN                NaN  \n",
       "69973      NaN            NaN                NaN  \n",
       "69974      NaN            NaN                NaN  \n",
       "69975      0.0            1.0               23.0  \n",
       "69976      NaN            NaN                NaN  \n",
       "69977      NaN            NaN                NaN  \n",
       "69978      NaN            NaN                NaN  \n",
       "69979      NaN            NaN                NaN  \n",
       "69980      9.0            0.0                0.0  \n",
       "69981      0.0            0.0                0.0  \n",
       "69982      NaN            NaN                NaN  \n",
       "69983      NaN            NaN                NaN  \n",
       "69984      NaN            NaN                NaN  \n",
       "69985      NaN            NaN                NaN  \n",
       "69986      NaN            NaN                NaN  \n",
       "69987      NaN            NaN                NaN  \n",
       "69988      NaN            NaN                NaN  \n",
       "69989      NaN            NaN                NaN  \n",
       "69990      NaN            NaN                NaN  \n",
       "69991      NaN            NaN                NaN  \n",
       "69992      NaN            NaN                NaN  \n",
       "69993      NaN            NaN                NaN  \n",
       "69994      NaN            NaN                NaN  \n",
       "69995      NaN            NaN                NaN  \n",
       "69996      0.0            0.0               22.0  \n",
       "69997      NaN            NaN                NaN  \n",
       "69998     15.0            0.0                6.0  \n",
       "69999      NaN            NaN                NaN  \n",
       "\n",
       "[70000 rows x 29 columns]"
      ]
     },
     "execution_count": 7,
     "metadata": {},
     "output_type": "execute_result"
    }
   ],
   "source": [
    "import pandas as pd\n",
    "%matplotlib inline\n",
    "data = pd.read_csv('2008.csv')\n",
    "data"
   ]
  },
  {
   "cell_type": "markdown",
   "metadata": {},
   "source": [
    "**6. (0.3 балла)** Какая из причин отмены рейса (`CancellationCode`) была самой частой? (расшифровки кодов можно найти в описании данных)"
   ]
  },
  {
   "cell_type": "code",
   "execution_count": 8,
   "metadata": {
    "collapsed": false
   },
   "outputs": [
    {
     "name": "stdout",
     "output_type": "stream",
     "text": [
      "carrier\n"
     ]
    }
   ],
   "source": [
    "cancellation_reasons = {'A': 'carrier', 'B': 'weather', 'C': 'nas', 'D': 'security'}\n",
    "print cancellation_reasons[np.argmax(data.groupby('CancellationCode').count()['Cancelled'])]"
   ]
  },
  {
   "cell_type": "markdown",
   "metadata": {},
   "source": [
    "**7. (0.3 балла)** Найдите среднее, минимальное и максимальное расстояние, пройденное самолетом."
   ]
  },
  {
   "cell_type": "code",
   "execution_count": 9,
   "metadata": {
    "collapsed": false
   },
   "outputs": [
    {
     "name": "stdout",
     "output_type": "stream",
     "text": [
      "mean distance 1341.78929223 km\n",
      "max  distance 9189.624 km\n",
      "min  distance 57.412 km\n"
     ]
    }
   ],
   "source": [
    "print 'mean distance {} km'.format(np.mean(data['Distance']) * 1.852)\n",
    "print 'max  distance {} km'.format(np.max(data['Distance']) * 1.852)\n",
    "print 'min  distance {} km'.format(np.min(data['Distance']) * 1.852)"
   ]
  },
  {
   "cell_type": "markdown",
   "metadata": {},
   "source": [
    "**8. (0.3 балла)** Не выглядит ли подозрительным минимальное пройденное расстояние? В какие дни и на каких рейсах оно было? Какое расстояние было пройдено этими же рейсами в другие дни?"
   ]
  },
  {
   "cell_type": "code",
   "execution_count": 10,
   "metadata": {
    "collapsed": false
   },
   "outputs": [
    {
     "name": "stdout",
     "output_type": "stream",
     "text": [
      "       DayofMonth  Month Origin Dest  FlightNum TailNum\n",
      "1116           30     12    WRG  PSG         65  N795AS\n",
      "6958           26     12    WRG  PSG         65  N795AS\n",
      "17349          18      8    PSG  WRG         64  N768AS\n",
      "27534          11      3    PSG  WRG         64  N764AS\n",
      "46082           9      8    WRG  PSG         65  N708AS\n",
      "48112          28      2    PSG  WRG         64  N762AS\n",
      "       DayofMonth  Month Origin Dest  FlightNum TailNum  Distance\n",
      "1116           30     12    WRG  PSG         65  N795AS        31\n",
      "1517           10      7    SEA  KTN         65  N703AS       680\n",
      "6326           18     10    KTN  WRG         65  N760AS        82\n",
      "6958           26     12    WRG  PSG         65  N795AS        31\n",
      "10113          24      7    JNU  ANC         65  N785AS       571\n",
      "14646          29     11    EWR  LAX         65  N21108      2454\n",
      "15173          22     10    JFK  TPA         65  N653JB      1005\n",
      "26025          13      5    FLL  ATL         65  N317AT       581\n",
      "26109           1      4    JNU  ANC         65  N784AS       571\n",
      "26824          17      6    ATL  LAS         65  N668DN      1747\n",
      "32173          23      2    ATL  LAS         65  N679DA      1747\n",
      "32956          28      5    EWR  LAX         65  N13110      2454\n",
      "33211          11      2    JFK  TPA         65  N546JB      1005\n",
      "37350          27      5    KTN  WRG         65  N764AS        82\n",
      "39438           2      5    JNU  ANC         65  N762AS       571\n",
      "43132          24      7    PSG  JNU         65  N785AS       123\n",
      "45031          23      8    KTN  WRG         65  N797AS        82\n",
      "46082           9      8    WRG  PSG         65  N708AS        31\n",
      "47168          19      7    FLL  ATL         65  N328AT       581\n",
      "47716          11      1    BUF  BWI         65  N425LV       281\n",
      "49369          19      3    BWI  BHM         65  N491WN       682\n",
      "50184          25      1    SNA  SFO         65  N511UA       372\n",
      "50888          30      9    KTN  WRG         65  N771AS        82\n",
      "50910          15      6    SNA  SFO         65  N811UA       372\n",
      "51841          19      1    ATL  LAS         65  N667DN      1747\n",
      "52459           9     12    FLL  ATL         65  N344AT       581\n",
      "52618          29      4    SEA  KTN         65  N785AS       680\n",
      "52779          14      9    ATL  LAS         65  N670DN      1747\n",
      "54909           6     11    FLL  ATL         65  N292AT       581\n",
      "57730          14     11    ATL  LAS         65  N127DL      1747\n",
      "57822           3      5    ATL  LAS         65  N826MH      1747\n",
      "59015          26      2    JFK  TPA         65  N603JB      1005\n",
      "64203           4      1    KTN  WRG         65  N769AS        82\n",
      "65662           4      3    PSG  JNU         65  N769AS       123\n",
      "66042          10      2    SNA  SFO         65  N843UA       372\n",
      "66529          21     12    KTN  WRG         65  N792AS        82\n",
      "68264           7      9    SJC  LAS         65  N403WN       386\n",
      "68338           3      8    EWR  LAX         65  N48127      2454\n",
      "69305           5      1    JFK  TPA         65  N582JB      1005\n",
      "       DayofMonth  Month Origin Dest  FlightNum TailNum  Distance\n",
      "501            20      3    ATL  IAD         64  N894AT       533\n",
      "1389           13      3    KTN  SEA         64  N763AS       680\n",
      "2619           23      5    LAS  BOS         64  N822AW      2381\n",
      "3869            1      7    WRG  KTN         64  N765AS        82\n",
      "4025           15      6    TPA  JFK         64  N640JB      1005\n",
      "4466           29      6    JNU  PSG         64  N622AS       123\n",
      "6778           12      7    JAN  HOU         64  N234WN       359\n",
      "7891            6      4    LAS  BOS         64  N838AW      2381\n",
      "7977            9      7    LAS  ATL         64  N124DE      1747\n",
      "8448           10      2    JNU  PSG         64  N627AS       123\n",
      "9615            4      1    ATL  IAD         64  N922AT       533\n",
      "10833          31      3    SFO  SNA         64  N507UA       372\n",
      "12352          14      1    LAS  ATL         64  N139DL      1747\n",
      "12980           6      8    WRG  KTN         64  N765AS        82\n",
      "13155           2      7    LAS  ATL         64  N138DL      1747\n",
      "17349          18      8    PSG  WRG         64  N768AS        31\n",
      "21304          13      5    TPA  JFK         64  N552JB      1005\n",
      "24750          21      8    KTN  SEA         64  N768AS       680\n",
      "25671          15      1    ATL  IAD         64  N963AT       533\n",
      "26323          15     12    TPA  JFK         64  N645JB      1005\n",
      "27534          11      3    PSG  WRG         64  N764AS        31\n",
      "29801          23      4    JNU  PSG         64  N765AS       123\n",
      "30053           4      1    WRG  KTN         64  N764AS        82\n",
      "31375          30      3    TPA  JFK         64  N506JB      1005\n",
      "31629          19      7    HOU  DEN         64  N716SW       883\n",
      "32242          23      9    WRG  KTN         64  N763AS        82\n",
      "33769           7     12    LAS  ATL         64  N129DL      1747\n",
      "41044          30      3    LAS  ATL         64  N121DE      1747\n",
      "43353          29      8    ANC  JNU         64  N765AS       571\n",
      "44649          14      9    ANC  JNU         64  N768AS       571\n",
      "44810          12      2    WRG  KTN         64  N765AS        82\n",
      "48020           1     11    TPA  JFK         64  N636JB      1005\n",
      "48112          28      2    PSG  WRG         64  N762AS        31\n",
      "55053          31      3    JNU  PSG         64  N763AS       123\n",
      "58530          16      1    ANC  JNU         64  N763AS       571\n",
      "61164          14      9    KTN  SEA         64  N768AS       680\n",
      "63028          22      1    LAS  ATL         64  N130DL      1747\n",
      "64319           3      5    SFO  LAS         64  N831AW       414\n",
      "67172          22      3    ATL  IAD         64  N961AT       533\n"
     ]
    }
   ],
   "source": [
    "strange_flights = data['Distance'] == np.min(data['Distance'])\n",
    "print data[strange_flights][['DayofMonth', 'Month', 'Origin', 'Dest', 'FlightNum', 'TailNum']]\n",
    "\"\"\"\n",
    "It is Wrangell Airport in northern Alaska. No road access exists to the nearby territory.\n",
    "The other one is Petersburg Airport. It it nearby.\n",
    "\"\"\"\n",
    "print data[data['FlightNum'] == 65][['DayofMonth', 'Month', 'Origin', 'Dest', 'FlightNum', 'TailNum', 'Distance']]\n",
    "print data[data['FlightNum'] == 64][['DayofMonth', 'Month', 'Origin', 'Dest', 'FlightNum', 'TailNum', 'Distance']]"
   ]
  },
  {
   "cell_type": "markdown",
   "metadata": {},
   "source": [
    "**9. (0.3 балла)** Из какого аэропорта было произведено больше всего вылетов? В каком городе он находится?"
   ]
  },
  {
   "cell_type": "code",
   "execution_count": 11,
   "metadata": {
    "collapsed": false
   },
   "outputs": [
    {
     "name": "stdout",
     "output_type": "stream",
     "text": [
      "ATL\n",
      "ATL is an airport in Atlanta, GA\n"
     ]
    }
   ],
   "source": [
    "print np.argmax(data.groupby('Origin').count()['FlightNum'])\n",
    "print 'ATL is an airport in Atlanta, GA'"
   ]
  },
  {
   "cell_type": "markdown",
   "metadata": {},
   "source": [
    "**10. (0.3 балла)** Найдите для каждого аэропорта среднее время полета (`AirTime`) по всем вылетевшим из него рейсам. Какой аэропорт имеет наибольшее значение этого показателя?"
   ]
  },
  {
   "cell_type": "code",
   "execution_count": 12,
   "metadata": {
    "collapsed": false
   },
   "outputs": [
    {
     "name": "stdout",
     "output_type": "stream",
     "text": [
      "maximum avg air time SJU\n",
      "SJU is an airport in Puerto Rico\n"
     ]
    }
   ],
   "source": [
    "print 'maximum avg air time {}'.format(data.groupby('Origin')['AirTime'].mean().argmax())\n",
    "print 'SJU is an airport in Puerto Rico'"
   ]
  },
  {
   "cell_type": "markdown",
   "metadata": {},
   "source": [
    "**11. (0.5 балла)** Найдите аэропорт, у которого наибольшая доля задержанных (`DepDelay > 0`) рейсов. Исключите при этом из рассмотрения аэропорты, из которых было отправлено меньше 1000 рейсов (используйте функцию `filter` после `groupby`)."
   ]
  },
  {
   "cell_type": "code",
   "execution_count": 13,
   "metadata": {
    "collapsed": false
   },
   "outputs": [
    {
     "name": "stdout",
     "output_type": "stream",
     "text": [
      "EWR\n",
      "EWR is an airport in Newark, NJ, near NYC\n"
     ]
    }
   ],
   "source": [
    "ap = data.groupby('Origin').filter(lambda x: x['Year'].count() >= 1000).groupby('Origin')['DepDelay']\n",
    "print ap.agg(lambda x: np.mean(x > 0)).argmax()\n",
    "print 'EWR is an airport in Newark, NJ, near NYC'"
   ]
  },
  {
   "cell_type": "markdown",
   "metadata": {},
   "source": [
    "## Линейная регрессия\n",
    "\n",
    "В этой части мы разберемся с линейной регрессией, способами её обучения и измерением качества ее прогнозов. \n",
    "\n",
    "Будем рассматривать датасет из предыдущей части задания для предсказания времени задержки отправления рейса в минутах (DepDelay). Отметим, что под задержкой подразумевается не только опоздание рейса относительно планируемого времени вылета, но и отправление до планируемого времени.\n",
    "\n",
    "### Подготовка данных\n",
    "\n",
    "**12. (0.5 балла)** Считайте выборку из файла при помощи функции pd.read_csv и ответьте на следующие вопросы:\n",
    "   - Имеются ли в данных пропущенные значения?\n",
    "   - Сколько всего пропущенных элементов в таблице \"объект-признак\"?\n",
    "   - Сколько объектов имеют хотя бы один пропуск?\n",
    "   - Сколько признаков имеют хотя бы одно пропущенное значение?"
   ]
  },
  {
   "cell_type": "code",
   "execution_count": 14,
   "metadata": {
    "collapsed": false,
    "scrolled": true
   },
   "outputs": [
    {
     "name": "stdout",
     "output_type": "stream",
     "text": [
      "there are empty data\n",
      "totally there are 355215 empty elements\n",
      "totally 70000 objects contains empty elements\n",
      "totally 16 features contains empty elements\n"
     ]
    }
   ],
   "source": [
    "print 'there are empty data' if data.isnull().any().any() else 'there are no empty data'\n",
    "print 'totally there are {} empty elements'.format(data.isnull().sum().sum())\n",
    "print 'totally {} objects contains empty elements'.format(data.isnull().any(axis=1).sum())\n",
    "print 'totally {} features contains empty elements'.format(data.isnull().any(axis=0).sum())"
   ]
  },
  {
   "cell_type": "markdown",
   "metadata": {},
   "source": [
    "Как вы понимаете, также не имеет смысла рассматривать при решении поставленной задачи объекты с пропущенным значением целевой переменной. В связи с этим ответьте на следующие вопросы и выполните соответствующие действия:\n",
    "- Имеются ли пропущенные значения в целевой переменной?\n",
    "- Проанализируйте объекты с пропущенными значениями целевой переменной. Чем вызвано это явление? Что их объединяет? Можно ли в связи с этим, на ваш взгляд, исключить какие-то признаки из рассмотрения? Обоснуйте свою точку зрения.\n",
    "\n",
    "Исключите из выборки объекты **с пропущенным значением целевой переменной и со значением целевой переменной, равным 0**, а также при необходимости исключите признаки в соответствии с вашим ответом на последний вопрос из списка и выделите целевую переменную в отдельный вектор, исключив её из матрицы \"объект-признак\"."
   ]
  },
  {
   "cell_type": "code",
   "execution_count": 15,
   "metadata": {
    "collapsed": false
   },
   "outputs": [
    {
     "name": "stdout",
     "output_type": "stream",
     "text": [
      "target variable is missing sometimes\n",
      "0\n"
     ]
    }
   ],
   "source": [
    "print 'target variable is missing sometimes' if data['DepDelay'].isnull().any() else 'target variable always present'\n",
    "#print data[data['DepDelay'].isnull()]\n",
    "#hypothesis: every flight that is missing DepDelay is cancelled\n",
    "print np.sum(1 - data[data['DepDelay'].isnull()]['Cancelled'])\n",
    "new_data = data[data['Cancelled'] == 0].drop(['Cancelled', 'CancellationCode'], 1)\n",
    "y = new_data['DepDelay']\n",
    "new_data.drop('DepDelay', 1, inplace=True)\n",
    "new_data.drop(y[y == 0].index, inplace=True)\n",
    "y.drop(y[y == 0].index, inplace=True)"
   ]
  },
  {
   "cell_type": "markdown",
   "metadata": {},
   "source": [
    "**13. (0.5 балла)** Обратите внимание, что признаки DepTime, CRSDepTime, ArrTime, CRSArrTime приведены в формате hhmm, в связи с чем будет не вполне корректно рассматривать их как вещественные.\n",
    "\n",
    "Преобразуйте каждый признак FeatureName из указанных в пару новых признаков FeatureName\\_Hour, FeatureName\\_Minute, разделив каждое из значений на часы и минуты. Не забудьте при этом исключить исходный признак из выборки. В случае, если значение признака отсутствует, значения двух новых признаков, его заменяющих, также должны отсутствовать. \n",
    "\n",
    "Например, признак DepTime необходимо заменить на пару признаков DepTime_Hour, DepTime_Minute. При этом, например, значение 155 исходного признака будет преобразовано в значения 1 и 55 признаков DepTime_Hour, DepTime_Minute соответственно."
   ]
  },
  {
   "cell_type": "code",
   "execution_count": 16,
   "metadata": {
    "collapsed": false
   },
   "outputs": [],
   "source": [
    "for feat in 'DepTime', 'CRSDepTime', 'ArrTime', 'CRSArrTime':\n",
    "    new_data[feat + '_Hour'] = (data[feat] / 100).round()\n",
    "    new_data[feat + '_Minute'] = (data[feat] % 100).round()\n",
    "    new_data.drop(feat, 1, inplace=True, errors='ignore')"
   ]
  },
  {
   "cell_type": "markdown",
   "metadata": {},
   "source": [
    "**14. (0.5 балла)** Некоторые из признаков, отличных от целевой переменной, могут оказывать чересчур значимое влияние на прогноз, поскольку по своему смыслу содержат большую долю информации о значении целевой переменной. Изучите описание датасета и исключите признаки, сильно коррелирующие с ответами. Ваш выбор признаков для исключения из выборки обоснуйте. Кроме того, исключите признаки TailNum и Year."
   ]
  },
  {
   "cell_type": "code",
   "execution_count": 17,
   "metadata": {
    "collapsed": false
   },
   "outputs": [],
   "source": [
    "\"real times gives almost all the information 'bout the delay\"\n",
    "depTimeHour = new_data['DepTime_Hour'] # Чтобы строить гистограмму\n",
    "\n",
    "# Все эти данные - это реальные времена прилётов/отправлений, очевидно вместе с планируемыми они содержат львиную долю\n",
    "# информации об ответе\n",
    "new_data.drop(['DepTime_Hour', 'DepTime_Minute', 'ArrTime_Hour', 'ArrTime_Minute', \n",
    "               'ActualElapsedTime', 'ArrDelay'], 1, inplace=True)\n",
    "new_data.drop(['Diverted', 'AirTime'], 1, inplace=True) # этот признак не известен до вылета\n",
    "new_data.drop(['CarrierDelay', 'WeatherDelay', 'NASDelay', 'SecurityDelay', 'LateAircraftDelay'], 1, inplace=True)\n",
    "new_data.drop(['TailNum', 'Year'], 1, inplace=True)"
   ]
  },
  {
   "cell_type": "markdown",
   "metadata": {},
   "source": [
    "**15. (1 балл)** Приведем данные к виду, пригодному для обучения линейных моделей. Для этого вещественные признаки надо отмасштабировать, а категориальные — привести к числовому виду. Также надо устранить пропуски в данных."
   ]
  },
  {
   "cell_type": "markdown",
   "metadata": {},
   "source": [
    "В первую очередь поймем, зачем необходимо применять масштабирование. Следующие ячейки с кодом построят гистограммы для 3 вещественных признаков выборки."
   ]
  },
  {
   "cell_type": "code",
   "execution_count": 18,
   "metadata": {
    "collapsed": false,
    "scrolled": true
   },
   "outputs": [
    {
     "data": {
      "text/plain": [
       "<matplotlib.axes._subplots.AxesSubplot at 0x7faa21ed81d0>"
      ]
     },
     "execution_count": 18,
     "metadata": {},
     "output_type": "execute_result"
    },
    {
     "data": {
      "image/png": "[encoded data removed]",
      "text/plain": [
       "<matplotlib.figure.Figure at 0x7faa224758d0>"
      ]
     },
     "metadata": {},
     "output_type": "display_data"
    }
   ],
   "source": [
    "depTimeHour.hist(bins=20) # already deleted DepTime_Hour"
   ]
  },
  {
   "cell_type": "code",
   "execution_count": 19,
   "metadata": {
    "collapsed": false
   },
   "outputs": [
    {
     "data": {
      "text/plain": [
       "<matplotlib.axes._subplots.AxesSubplot at 0x7faa22475e10>"
      ]
     },
     "execution_count": 19,
     "metadata": {},
     "output_type": "execute_result"
    },
    {
     "data": {
      "image/png": "[encoded data removed]",
      "text/plain": [
       "<matplotlib.figure.Figure at 0x7faa21ce7510>"
      ]
     },
     "metadata": {},
     "output_type": "display_data"
    }
   ],
   "source": [
    "new_data['TaxiIn'].hist(bins=20)"
   ]
  },
  {
   "cell_type": "code",
   "execution_count": 20,
   "metadata": {
    "collapsed": false
   },
   "outputs": [
    {
     "data": {
      "text/plain": [
       "<matplotlib.axes._subplots.AxesSubplot at 0x7faa21cf5090>"
      ]
     },
     "execution_count": 20,
     "metadata": {},
     "output_type": "execute_result"
    },
    {
     "data": {
      "image/png": "[encoded data removed]",
      "text/plain": [
       "<matplotlib.figure.Figure at 0x7faa21955e50>"
      ]
     },
     "metadata": {},
     "output_type": "display_data"
    }
   ],
   "source": [
    "new_data['FlightNum'].hist(bins=20)"
   ]
  },
  {
   "cell_type": "markdown",
   "metadata": {},
   "source": [
    "Какую проблему вы наблюдаете на этих графиках? Как масштабирование поможет её исправить?"
   ]
  },
  {
   "cell_type": "raw",
   "metadata": {},
   "source": [
    "Основная масса TaxiIn до 20 в то время как FlightNum бывают намного больше, масштабированние приведёт их к одному масштабу. DepTime_Hour (и видимо CRSDepTime_Hour) ещё и смещены, видимо стоит отправить их в 0,0 масштабирование это сделает"
   ]
  },
  {
   "cell_type": "markdown",
   "metadata": {},
   "source": [
    "Некоторые из признаков в нашем датасете являются категориальными. Типичным подходом к работе с ними является бинарное, или [one-hot-кодирование](https://en.wikipedia.org/wiki/One-hot).\n",
    "\n",
    "Реализуйте функцию transform_data, которая принимает на вход DataFrame с признаками и выполняет следующие шаги:\n",
    "1. Замена пропущенных значений на нули для вещественных признаков и на строки 'nan' для категориальных.\n",
    "2. Масштабирование вещественных признаков с помощью [StandardScaler](http://scikit-learn.org/stable/modules/generated/sklearn.preprocessing.StandardScaler.html).\n",
    "3. One-hot-кодирование категориальных признаков с помощью [DictVectorizer](http://scikit-learn.org/stable/modules/generated/sklearn.feature_extraction.DictVectorizer.html) или функции [pd.get_dummies](http://pandas.pydata.org/pandas-docs/stable/generated/pandas.get_dummies.html).\n",
    "\n",
    "Метод должен возвращать преобразованный DataFrame, который должна состоять из масштабированных вещественных признаков и закодированных категориальных (исходные признаки должны быть исключены из выборки)."
   ]
  },
  {
   "cell_type": "code",
   "execution_count": 21,
   "metadata": {
    "collapsed": false
   },
   "outputs": [],
   "source": [
    "x = data['DepDelay'] - data['CarrierDelay'] - data['NASDelay'] - data['SecurityDelay'] - data['LateAircraftDelay']"
   ]
  },
  {
   "cell_type": "code",
   "execution_count": 22,
   "metadata": {
    "collapsed": false
   },
   "outputs": [
    {
     "data": {
      "text/plain": [
       "Index([u'Month', u'DayofMonth', u'DayOfWeek', u'UniqueCarrier', u'FlightNum',\n",
       "       u'CRSElapsedTime', u'Origin', u'Dest', u'Distance', u'TaxiIn',\n",
       "       u'TaxiOut', u'DepDelay', u'CRSDepTime_Hour', u'CRSDepTime_Minute',\n",
       "       u'CRSArrTime_Hour', u'CRSArrTime_Minute'],\n",
       "      dtype='object')"
      ]
     },
     "execution_count": 22,
     "metadata": {},
     "output_type": "execute_result"
    }
   ],
   "source": [
    "new_data.columns"
   ]
  },
  {
   "cell_type": "code",
   "execution_count": 23,
   "metadata": {
    "collapsed": false
   },
   "outputs": [
    {
     "data": {
      "text/plain": [
       "Month                False\n",
       "DayofMonth           False\n",
       "DayOfWeek            False\n",
       "UniqueCarrier        False\n",
       "FlightNum            False\n",
       "CRSElapsedTime        True\n",
       "Origin               False\n",
       "Dest                 False\n",
       "Distance             False\n",
       "TaxiIn                True\n",
       "TaxiOut              False\n",
       "DepDelay             False\n",
       "CRSDepTime_Hour      False\n",
       "CRSDepTime_Minute    False\n",
       "CRSArrTime_Hour      False\n",
       "CRSArrTime_Minute    False\n",
       "dtype: bool"
      ]
     },
     "execution_count": 23,
     "metadata": {},
     "output_type": "execute_result"
    }
   ],
   "source": [
    "new_data.isnull().any(axis=0)"
   ]
  },
  {
   "cell_type": "code",
   "execution_count": 24,
   "metadata": {
    "collapsed": false
   },
   "outputs": [
    {
     "data": {
      "text/plain": [
       "5"
      ]
     },
     "execution_count": 24,
     "metadata": {},
     "output_type": "execute_result"
    }
   ],
   "source": [
    "new_data['CRSElapsedTime'].isnull().sum()"
   ]
  },
  {
   "cell_type": "code",
   "execution_count": 25,
   "metadata": {
    "collapsed": false
   },
   "outputs": [],
   "source": [
    "null_elapsed_time = new_data['CRSElapsedTime'][new_data['CRSElapsedTime'].isnull()].index\n",
    "new_data.drop(null_elapsed_time, inplace=True)\n",
    "y.drop(null_elapsed_time, inplace=True)"
   ]
  },
  {
   "cell_type": "code",
   "execution_count": 26,
   "metadata": {
    "collapsed": false
   },
   "outputs": [
    {
     "data": {
      "text/plain": [
       "123"
      ]
     },
     "execution_count": 26,
     "metadata": {},
     "output_type": "execute_result"
    }
   ],
   "source": [
    "new_data['TaxiIn'].isnull().sum()"
   ]
  },
  {
   "cell_type": "code",
   "execution_count": 27,
   "metadata": {
    "collapsed": false
   },
   "outputs": [],
   "source": [
    "null_taxi_in = new_data['TaxiIn'][new_data['TaxiIn'].isnull()].index\n",
    "new_data.drop(null_taxi_in, inplace=True)\n",
    "y.drop(null_taxi_in, inplace=True)"
   ]
  },
  {
   "cell_type": "code",
   "execution_count": 28,
   "metadata": {
    "collapsed": false
   },
   "outputs": [],
   "source": [
    "import sklearn.preprocessing\n",
    "from sklearn.preprocessing import StandardScaler, scale\n",
    "def transform_data(data):\n",
    "    real_valued = ['Month', 'DayofMonth', 'CRSElapsedTime', 'Distance', \n",
    "                   'TaxiIn', 'TaxiOut','CRSDepTime_Hour', 'CRSDepTime_Minute',\n",
    "                   'CRSArrTime_Hour', 'CRSArrTime_Minute']\n",
    "    discrete = ['DayOfWeek', 'UniqueCarrier', 'FlightNum', 'Origin', 'Dest']\n",
    "    real = data[real_valued].apply(lambda x: scale(x.astype(np.float64)))\n",
    "    discr =  pd.get_dummies(data[discrete])\n",
    "    return real.join(discr)"
   ]
  },
  {
   "cell_type": "markdown",
   "metadata": {},
   "source": [
    "Примените функцию transform_data к данным. Сколько признаков получилось после преобразования?"
   ]
  },
  {
   "cell_type": "code",
   "execution_count": 29,
   "metadata": {
    "collapsed": false
   },
   "outputs": [
    {
     "name": "stdout",
     "output_type": "stream",
     "text": [
      "626\n"
     ]
    }
   ],
   "source": [
    "ndata = transform_data(new_data)\n",
    "print len(ndata.columns)"
   ]
  },
  {
   "cell_type": "markdown",
   "metadata": {},
   "source": [
    "**16. (0.5 балла)** Разбейте выборку и вектор целевой переменной на обучение и контроль в отношении 70/30 (для этого можно использовать, например, функцию [train_test_split](http://scikit-learn.org/stable/modules/generated/sklearn.cross_validation.train_test_split.html)). "
   ]
  },
  {
   "cell_type": "code",
   "execution_count": 30,
   "metadata": {
    "collapsed": false
   },
   "outputs": [],
   "source": [
    "from sklearn import cross_validation\n",
    "X_train, X_test, y_train, y_test = cross_validation.train_test_split(ndata, y)"
   ]
  },
  {
   "cell_type": "markdown",
   "metadata": {},
   "source": [
    "### Scikit-learn\n",
    "\n",
    "<img src = \"https://pp.vk.me/c4534/u35727827/93547647/x_d31c4463.jpg\">\n",
    "Теперь, когда мы привели данные к пригодному виду, попробуем решить задачу при помощи метода наименьших квадратов. Напомним, что данный метод заключается в оптимизации функционала $MSE$:\n",
    "\n",
    "$$MSE(X, y) = \\frac{1}{l} \\sum_{i=1}^l (<w, x_i> - y_i)^2 \\to \\min_{w},$$\n",
    "\n",
    "где $\\{ (x_i, y_i ) \\}_{i=1}^l$ — обучающая выборка, состоящая из $l$ пар объект-ответ.\n",
    "\n",
    "Заметим, что решение данной задачи уже реализовано в модуле sklearn в виде класса [LinearRegression](http://scikit-learn.org/stable/modules/generated/sklearn.linear_model.LinearRegression.html#sklearn.linear_model.LinearRegression).\n",
    "\n",
    "**17. (0.5 балла)** Обучите линейную регрессию на 1000 объектах из обучающей выборки и выведите значения $MSE$ и $R^2$ на этой подвыборке и контрольной выборке (итого 4 различных числа). Проинтерпретируйте полученный результат — насколько качественные прогнозы строит полученная модель? Какие проблемы наблюдаются в модели?\n",
    "\n",
    "**Подсказка**: изучите значения полученных коэффициентов $w$, сохраненных в атрибуте coef_ объекта LinearRegression."
   ]
  },
  {
   "cell_type": "code",
   "execution_count": 32,
   "metadata": {
    "collapsed": false
   },
   "outputs": [
    {
     "name": "stdout",
     "output_type": "stream",
     "text": [
      "r2 score on the training set: 0.35\n",
      "r2 score on the test set: -0.3\n",
      "it already does seem like overlearning. R2 < 0 is bad thing. it is a very bad thing.\n",
      "underlearned model cannot be so bad\n",
      "mse on the training set: 803.945622647\n",
      "mse on the test set: 1628.77425836\n",
      "it also looks like overlearning, even though it is less obvious\n"
     ]
    }
   ],
   "source": [
    "from sklearn.linear_model import LinearRegression\n",
    "from sklearn.metrics import r2_score, mean_squared_error\n",
    "reg = LinearRegression()\n",
    "reg.fit(X_train[:1000], y_train[:1000])\n",
    "print 'r2 score on the training set: {0:.2}'.format(r2_score(y_train[:1000], reg.predict(X_train[:1000])))\n",
    "print 'r2 score on the test set: {0:.2}'.format(r2_score(y_test, reg.predict(X_test)))\n",
    "print 'it already does seem like overlearning. R2 < 0 is bad thing. it is a very bad thing.'\n",
    "print 'underlearned model cannot be so bad'\n",
    "print 'mse on the training set: {}'.format(mean_squared_error(y_train[:1000], reg.predict(X_train[:1000])))\n",
    "print 'mse on the test set: {}'.format(mean_squared_error(y_test, reg.predict(X_test)))\n",
    "print 'it also looks like overlearning, even though it is less obvious'\n",
    "del reg"
   ]
  },
  {
   "cell_type": "markdown",
   "metadata": {
    "collapsed": true
   },
   "source": [
    "Для решения описанных вами в предыдущем пункте проблем используем L1- или L2-регуляризацию, тем самым получив Lasso и Ridge регрессии соответственно и изменив оптимизационную задачу одним из следующих образов:\n",
    "$$MSE_{L1}(X, y) = \\frac{1}{l} \\sum_{i=1}^l (<w, x_i> - y_i)^2 + \\alpha ||w||_1 \\to \\min_{w},$$\n",
    "$$MSE_{L2}(X, y) = \\frac{1}{l} \\sum_{i=1}^l (<w, x_i> - y_i)^2 + \\alpha ||w||_2^2 \\to \\min_{w},$$\n",
    "\n",
    "где $\\alpha$ — коэффициент регуляризации. Один из способов его подбора заключается в переборе некоторого количества значений и оценке качества на кросс-валидации для каждого из них, после чего выбирается значение, для которого было получено наилучшее качество.\n",
    "\n",
    "**18. (0.5 балла)** Обучите линейные регрессии с L1- и L2-регуляризатором, подобрав лучшее значение параметра регуляризации из списка alpha_grid при помощи кросс-валидации c 5 фолдами на тех же 1000 объектах, что и в п.17. Выведите значения $MSE$ и $R^2$ на обучающей и контрольной выборках. Удалось ли решить указанные вами ранее проблемы?\n",
    "\n",
    "Для выполнения данного задания вам могут понадобиться реализованные в библиотеке объекты [LassoCV](http://scikit-learn.org/stable/modules/generated/sklearn.linear_model.LassoCV.html), [RidgeCV](http://scikit-learn.org/stable/modules/generated/sklearn.linear_model.RidgeCV.html) и [KFold](http://scikit-learn.org/stable/modules/generated/sklearn.cross_validation.KFold.html).\n"
   ]
  },
  {
   "cell_type": "code",
   "execution_count": 33,
   "metadata": {
    "collapsed": false
   },
   "outputs": [
    {
     "name": "stderr",
     "output_type": "stream",
     "text": [
      "/home/paul/anaconda2/lib/python2.7/site-packages/sklearn/linear_model/coordinate_descent.py:466: ConvergenceWarning: Objective did not converge. You might want to increase the number of iterations\n",
      "  ConvergenceWarning)\n"
     ]
    },
    {
     "name": "stdout",
     "output_type": "stream",
     "text": [
      "Lasso scores: \n",
      "r2 score on the training set: 0.065\n",
      "r2 score on the test set: 0.021\n",
      "mse on the training set: 1151.21635494\n",
      "mse on the test set: 1222.85800352\n",
      "Ridge scores:\n",
      "r2 score on the training set: 0.077\n",
      "r2 score on the test set: 0.026\n",
      "mse on the training set: 1136.82926047\n",
      "mse on the test set: 1216.7760942\n",
      "Problem solved - we perform poorly on both sets now!\n"
     ]
    }
   ],
   "source": [
    "def print_scores(reg):\n",
    "    print 'r2 score on the training set: {0:.2}'.format(r2_score(y_train[:1000], reg.predict(X_train[:1000])))\n",
    "    print 'r2 score on the test set: {0:.2}'.format(r2_score(y_test, reg.predict(X_test)))\n",
    "    print 'mse on the training set: {}'.format(mean_squared_error(y_train[:1000], reg.predict(X_train[:1000])))\n",
    "    print 'mse on the test set: {}'.format(mean_squared_error(y_test, reg.predict(X_test)))\n",
    "alpha_grid = np.logspace(-3, 3, 10)\n",
    "l2reg = sklearn.linear_model.RidgeCV(alphas=alpha_grid, cv=5)\n",
    "l1reg = sklearn.linear_model.LassoCV(alphas=alpha_grid, cv=5)\n",
    "l2reg.fit(X_train[:1000], y_train[:1000])\n",
    "l1reg.fit(X_train[:1000], y_train[:1000])\n",
    "print 'Lasso scores: '\n",
    "print_scores(l1reg)\n",
    "print 'Ridge scores:'\n",
    "print_scores(l2reg)\n",
    "del l1reg, l2reg\n",
    "\n",
    "print 'Problem solved - we perform poorly on both sets now!'"
   ]
  },
  {
   "cell_type": "markdown",
   "metadata": {},
   "source": [
    "### Градиентный спуск\n",
    "\n",
    "В предыдущем разделе мы использовали существующие реализации методов обучения линейной регрессии с регуляризацией и без. Тем не менее, подобные реализации, как правило, имеются лишь для ограниченного набора стандартных методов. В частности, при выходе функционала качества за пределы стандартного множества необходимо самостоятельно реализовывать составляющие процесса решения оптимизационной задачи. Именно этому и посвящен данный раздел задания.\n",
    "\n",
    "Пусть необходимо минимизировать следующий функционал (Mean Square Percentage Error — модифицированный [RMSPE](https://www.kaggle.com/c/rossmann-store-sales/details/evaluation)):\n",
    "$$MSPE(\\{x_i, y_i\\}_{i=1}^l, \\, w) = \\frac{1}{l}\\sum_{i=1}^l \\left( \\frac{y_i - \\langle w, x_i \\rangle }{y_i} \\right)^2,$$\n",
    "\n",
    "где $\\{x_i, y_i\\}_{i=1}^l$ — обучающая выборка, $w$ — вектор весов линейной модели. Будем также рассматривать функционал $MSPE$ с L2-регуляризацией:\n",
    "\n",
    "$$MSPE(\\{x_i, y_i\\}_{i=1}^l, \\, w) = \\frac{1}{l}\\sum_{i=1}^l \\left( \\frac{y_i - \\langle w, x_i \\rangle }{y_i} \\right)^2 + ||w||_2^2.$$\n",
    "\n",
    "**19. (0 баллов)** Добавьте к объектам обеих выборок из п. 16 единичный признак."
   ]
  },
  {
   "cell_type": "code",
   "execution_count": 34,
   "metadata": {
    "collapsed": false
   },
   "outputs": [
    {
     "name": "stderr",
     "output_type": "stream",
     "text": [
      "/home/paul/anaconda2/lib/python2.7/site-packages/pandas/core/indexing.py:288: SettingWithCopyWarning: \n",
      "A value is trying to be set on a copy of a slice from a DataFrame.\n",
      "Try using .loc[row_indexer,col_indexer] = value instead\n",
      "\n",
      "See the caveats in the documentation: http://pandas.pydata.org/pandas-docs/stable/indexing.html#indexing-view-versus-copy\n",
      "  self.obj[key] = _infer_fill_value(value)\n",
      "/home/paul/anaconda2/lib/python2.7/site-packages/pandas/core/indexing.py:465: SettingWithCopyWarning: \n",
      "A value is trying to be set on a copy of a slice from a DataFrame.\n",
      "Try using .loc[row_indexer,col_indexer] = value instead\n",
      "\n",
      "See the caveats in the documentation: http://pandas.pydata.org/pandas-docs/stable/indexing.html#indexing-view-versus-copy\n",
      "  self.obj[item] = s\n"
     ]
    },
    {
     "data": {
      "text/plain": [
       "Index([u'Month', u'DayofMonth', u'CRSElapsedTime', u'Distance', u'TaxiIn',\n",
       "       u'TaxiOut', u'CRSDepTime_Hour', u'CRSDepTime_Minute',\n",
       "       u'CRSArrTime_Hour', u'CRSArrTime_Minute',\n",
       "       ...\n",
       "       u'Dest_TYS', u'Dest_VLD', u'Dest_VPS', u'Dest_WRG', u'Dest_WYS',\n",
       "       u'Dest_XNA', u'Dest_YAK', u'Dest_YKM', u'Dest_YUM', u'1'],\n",
       "      dtype='object', length=627)"
      ]
     },
     "execution_count": 34,
     "metadata": {},
     "output_type": "execute_result"
    }
   ],
   "source": [
    "X_train.loc[:, '1'] = pd.Series([1] * len(X_train.index), index = X_train.index)\n",
    "X_test.loc[:, '1'] = pd.Series([1] * len(X_test.index), index = X_test.index)\n",
    "X_train.columns"
   ]
  },
  {
   "cell_type": "markdown",
   "metadata": {},
   "source": [
    "**20. (1 балл)** Реализуйте функции, которые вычисляют:\n",
    " * прогнозы линейной модели;\n",
    " * функционал $MSPE$ и его градиент;\n",
    " * регуляризованный $MSPE$ и его градиент."
   ]
  },
  {
   "cell_type": "code",
   "execution_count": 35,
   "metadata": {
    "collapsed": false
   },
   "outputs": [
    {
     "data": {
      "text/plain": [
       "array([[ 0.],\n",
       "       [ 0.],\n",
       "       [ 0.],\n",
       "       ..., \n",
       "       [ 0.],\n",
       "       [ 0.],\n",
       "       [ 0.]])"
      ]
     },
     "execution_count": 35,
     "metadata": {},
     "output_type": "execute_result"
    }
   ],
   "source": [
    "# возвращает вектор прогнозов линейной модели с вектором весов w для выборки X\n",
    "def make_pred(X, w):\n",
    "    return X.dot(w)\n",
    "make_pred(np.array(X_train), np.array([0] * X_train.shape[1]).reshape(-1, 1))"
   ]
  },
  {
   "cell_type": "code",
   "execution_count": 36,
   "metadata": {
    "collapsed": false
   },
   "outputs": [
    {
     "data": {
      "text/plain": [
       "1.0"
      ]
     },
     "execution_count": 36,
     "metadata": {},
     "output_type": "execute_result"
    }
   ],
   "source": [
    "# возвращает значение функционала MSPE для выборки (X, y) и вектора весов w\n",
    "def get_func(w, X, y):\n",
    "    return np.sum(((y - X.dot(w)) / y) ** 2) / len(y)\n",
    "get_func(np.array([0] * X_train.shape[1]).reshape(-1, 1), np.array(X_train), np.array(y_train).reshape(-1, 1))"
   ]
  },
  {
   "cell_type": "code",
   "execution_count": 37,
   "metadata": {
    "collapsed": false
   },
   "outputs": [
    {
     "data": {
      "text/plain": [
       "array([[ 0.31666688, -0.00592139,  0.27210839, ..., -0.        ,\n",
       "        -0.        , -0.2       ],\n",
       "       [ 0.02816481,  0.04732237,  0.02700794, ...,  0.        ,\n",
       "         0.        ,  0.03703704],\n",
       "       [-0.35114098,  0.14141552, -0.61044869, ..., -0.        ,\n",
       "        -0.        , -0.33333333],\n",
       "       ..., \n",
       "       [-0.02181298,  0.09557958,  0.10386827, ..., -0.        ,\n",
       "        -0.        , -0.125     ],\n",
       "       [ 0.14248405, -0.13390199,  0.13506477, ..., -0.        ,\n",
       "        -0.        , -0.14285714],\n",
       "       [ 0.0362119 , -0.02020222, -0.02934501, ...,  0.        ,\n",
       "         0.        ,  0.04761905]])"
      ]
     },
     "execution_count": 37,
     "metadata": {},
     "output_type": "execute_result"
    }
   ],
   "source": [
    "np.array(X_train) / np.array(y_train).reshape(-1, 1)"
   ]
  },
  {
   "cell_type": "code",
   "execution_count": 104,
   "metadata": {
    "collapsed": false
   },
   "outputs": [
    {
     "name": "stdout",
     "output_type": "stream",
     "text": [
      "0.016517143044\n",
      "0.0165187130641\n",
      "\n",
      "1.0\n",
      "0.997162031745\n"
     ]
    }
   ],
   "source": [
    "# возвращает градиент функционала MSPE для выборки (X, y) и вектора весов w\n",
    "def get_grad(w, X, y):\n",
    "    z = X / y\n",
    "    return -2. / len(y) * (1. - z.dot(w)).T.dot(z).T\n",
    "eps=1e-5\n",
    "def f(w):\n",
    "    return get_func(np.array(w).reshape(-1, 1),  np.array(X_train), np.array(y_train).reshape(-1, 1))\n",
    "def g(w):\n",
    "    return get_grad(np.array(w).reshape(-1, 1),  np.array(X_train), np.array(y_train).reshape(-1, 1))\n",
    "print g([0] * X.shape[1])[0, 0]\n",
    "eps = 1e-5\n",
    "print (f([eps] + [0] * (X.shape[1] - 1)) - f([0] * X.shape[1])) / eps\n",
    "\n",
    "print ''\n",
    "print f([0] * X.shape[1])\n",
    "print f(-g([0] * X.shape[1]) * 1e-8)"
   ]
  },
  {
   "cell_type": "code",
   "execution_count": 79,
   "metadata": {
    "collapsed": true
   },
   "outputs": [],
   "source": [
    "# возвращает значение регуляризованного функционала MSPE для выборки (X, y) и вектора весов w\n",
    "def get_reg_func(w, X, y):\n",
    "    return get_func(w, X, y) + np.sum(w * w)"
   ]
  },
  {
   "cell_type": "code",
   "execution_count": 80,
   "metadata": {
    "collapsed": true
   },
   "outputs": [],
   "source": [
    "# возвращает градиент регуляризованного функционала MSPE для выборки (X, y) и вектора весов w\n",
    "def get_reg_grad(w, X, y):\n",
    "    return get_grad(w, X, y) + 2 * w"
   ]
  },
  {
   "cell_type": "markdown",
   "metadata": {},
   "source": [
    "**21. (1 балл)** Реализуйте метод градиентного спуска для описанных функционалов ($MSPE$ и его регуляризованный вариант). Функция должна принимать следующие параметры:\n",
    " - X — матрица \"объект-признак\";\n",
    " - y — вектор целевой переменной;\n",
    " - w0 — начальное значение вектора весов;\n",
    " - step_size — значение темпа обучения;\n",
    " - max_iter — максимальное число итераций;\n",
    " - eps — значение, используемое в критерии останова;\n",
    " - is_reg — бинарный параметр, принимает значение True в случае наличия регуляризации функционала, False — в противном случае.\n",
    " \n",
    "Процесс должен быть остановлен, если выполнено хотя бы одно из следующих условий:\n",
    " - было выполнено заданное количество итераций max_iter;\n",
    " - евклидова норма разности векторов $w$ на соседних итерациях стала меньше, чем eps.\n",
    "\n",
    "Функция должна возвращать полученный в результате оптимизации вектор $w$ и список значений функционала на каждой итерации."
   ]
  },
  {
   "cell_type": "code",
   "execution_count": 88,
   "metadata": {
    "collapsed": true
   },
   "outputs": [],
   "source": [
    "def grad_descent(X, y, w0, step_size, max_iter, eps, is_reg):\n",
    "    func = get_reg_func if is_reg else get_func\n",
    "    grad = get_reg_grad if is_reg else get_grad\n",
    "    values = [func(w0, X, y)]\n",
    "    ws = [w0]\n",
    "    for it in range(max_iter):\n",
    "        gr = grad(ws[it], X, y)\n",
    "        w = ws[it] - step_size * gr\n",
    "        values.append(func(w, X, y))\n",
    "        ws.append(w)\n",
    "        if np.sum((w - ws[it]) ** 2) < eps:\n",
    "            break\n",
    "    return ws[-1], values"
   ]
  },
  {
   "cell_type": "markdown",
   "metadata": {},
   "source": [
    "Обучите линейную регрессию с функционалом $MSPE$ на обучающей выборке при помощи метода градиентного спуска и изобразите кривые зависимости значения функционала от номера итерации для различных:\n",
    " * значений размера шага из набора [0.001, 1, 10];\n",
    " * способов начальной инициализации вектора весов (нули, случайные веса).\n",
    "\n",
    "Проанализируйте полученные результаты — влияют ли данные параметры на скорость сходимости и итоговое качество? Если да, то как?"
   ]
  },
  {
   "cell_type": "code",
   "execution_count": 89,
   "metadata": {
    "collapsed": false
   },
   "outputs": [
    {
     "data": {
      "text/plain": [
       "array([[-1.58333442,  0.02960694, -1.36054193, ...,  0.        ,\n",
       "         0.        ,  1.        ],\n",
       "       [ 0.76044991,  1.27770405,  0.72921433, ...,  0.        ,\n",
       "         0.        ,  1.        ],\n",
       "       [ 1.05342295, -0.42424655,  1.83134606, ...,  0.        ,\n",
       "         0.        ,  1.        ],\n",
       "       ..., \n",
       "       [ 0.17450383, -0.76463667, -0.83094616, ...,  0.        ,\n",
       "         0.        ,  1.        ],\n",
       "       [-0.99738834,  0.93731393, -0.94545336, ...,  0.        ,\n",
       "         0.        ,  1.        ],\n",
       "       [ 0.76044991, -0.42424655, -0.61624518, ...,  0.        ,\n",
       "         0.        ,  1.        ]])"
      ]
     },
     "execution_count": 89,
     "metadata": {},
     "output_type": "execute_result"
    }
   ],
   "source": [
    "X = np.array(X_train)\n",
    "y = np.array(y_train).reshape(-1, 1)\n",
    "X"
   ]
  },
  {
   "cell_type": "code",
   "execution_count": 109,
   "metadata": {
    "collapsed": false
   },
   "outputs": [
    {
     "name": "stdout",
     "output_type": "stream",
     "text": [
      "for 0 initialization: \n",
      "alpha = 1e-08\n",
      "descendend in 50 steps, final result is 0.94\n",
      "alpha = 1e-07\n",
      "descendend in 17 steps, final result is 0.94\n",
      "alpha = 1e-06\n",
      "descendend in 50 steps, final result is 1.6e+09\n",
      "for random initialization: \n",
      "alpha = 1e-08\n",
      "descendend in 50 steps, final result is 1.1\n",
      "alpha = 1e-07\n",
      "descendend in 24 steps, final result is 0.94\n",
      "alpha = 1e-06\n",
      "descendend in 50 steps, final result is 5.2e+10\n"
     ]
    }
   ],
   "source": [
    "w0_0 = np.zeros((X.shape[1], 1))\n",
    "w0_r = np.random.randn(X.shape[1], 1) / 1000\n",
    "def print_scores(step_size, w0):\n",
    "    w, values = grad_descent(X, y, w0, step_size, 50, 1e-12, False)\n",
    "    print 'descendend in {0} steps, final result is {1:.2}'.format(len(values) - 1, values[-1])\n",
    "print 'for 0 initialization: '\n",
    "for i in [1e-8, 1e-7, 1e-6]:\n",
    "    print 'alpha = {}'.format(i)\n",
    "    print_scores(i, w0_0)\n",
    "print 'for random initialization: '\n",
    "for i in [1e-8, 1e-7, 1e-6]:\n",
    "    print 'alpha = {}'.format(i)\n",
    "    print_scores(i, w0_r)"
   ]
  },
  {
   "cell_type": "markdown",
   "metadata": {},
   "source": [
    "Вывод - при слишком маленьком step_size мы сходимся вечность, при слишком большом - постоянно перескакиваем минимум"
   ]
  },
  {
   "cell_type": "markdown",
   "metadata": {},
   "source": [
    "\n",
    "**22. (0.5 балла)** Обучите линейную регрессию с функционалом MSPE и его регуляризованным вариантом на обучающей выборке при помощи метода градиентного спуска и изобразите кривые зависимости значения функционала от номера итерации. Исследуйте зависимость скорости сходимости от наличия регуляризации. Обоснуйте, почему так происходит."
   ]
  },
  {
   "cell_type": "code",
   "execution_count": null,
   "metadata": {
    "collapsed": true
   },
   "outputs": [],
   "source": [
    "# Your code here"
   ]
  },
  {
   "cell_type": "markdown",
   "metadata": {},
   "source": [
    "Метод градиентного спуска может быть весьма трудозатратен в случае большого размера обучающей выборки. Поэтому часто используют метод стохастического градиентного спуска, где на каждой итерации выбирается случайный объект из обучающей выборки и обновление весов происходит только по этому объекту. \n",
    "\n",
    "**23. (1 доп. балл)**  Реализуйте метод стохастического градиентного спуска (SGD) для описанных функционалов ($MSPE$ и его регуляризованный вариант). Функция должна иметь параметры и возвращаемое значение, аналогичные оным функции grad\\_descent из п.21. Кроме того, должен использоваться аналогичный критерий останова."
   ]
  },
  {
   "cell_type": "code",
   "execution_count": null,
   "metadata": {
    "collapsed": true
   },
   "outputs": [],
   "source": [
    "def sgd(X, y, step_size, max_iter, eps, is_reg):\n",
    "    # Your code here"
   ]
  },
  {
   "cell_type": "markdown",
   "metadata": {},
   "source": [
    "Обучите линейную регрессию с функционалом $MSPE$ и его регуляризованным вариантом на обучающей выборке при помощи метода стохастического градиентного спуска, подобрав при этом размер шага, при котором метод будет сходиться. Нарисуйте график сходимости. Выведите значения $MSPE, MSE, R^2$ на контрольной выборке."
   ]
  },
  {
   "cell_type": "code",
   "execution_count": null,
   "metadata": {
    "collapsed": true
   },
   "outputs": [],
   "source": [
    "# Your code here"
   ]
  },
  {
   "cell_type": "markdown",
   "metadata": {},
   "source": [
    "**24. (0.5 доп. балла)** Аналогично п.22 исследуйте зависимость скорости сходимости метода SGD от наличия регуляризации. Обоснуйте, почему так происходит."
   ]
  },
  {
   "cell_type": "code",
   "execution_count": null,
   "metadata": {
    "collapsed": true
   },
   "outputs": [],
   "source": [
    "# Your code here"
   ]
  },
  {
   "cell_type": "markdown",
   "metadata": {},
   "source": [
    "**25. (0.5 балла)** Обучите стандартную линейную регрессию с функционалом качества MSE на обучающей выборке и выведите значение MSPE полученного решения на контрольной выборке. Как оно соотносится с аналогичным результатом для решения, полученного в п.22? Почему?"
   ]
  },
  {
   "cell_type": "code",
   "execution_count": null,
   "metadata": {
    "collapsed": true
   },
   "outputs": [],
   "source": [
    "# Your code here"
   ]
  },
  {
   "cell_type": "markdown",
   "metadata": {},
   "source": [
    "Здесь вы можете поделиться своими мыслями по поводу этого задания."
   ]
  },
  {
   "cell_type": "code",
   "execution_count": null,
   "metadata": {
    "collapsed": true
   },
   "outputs": [],
   "source": []
  },
  {
   "cell_type": "markdown",
   "metadata": {},
   "source": [
    "А здесь — вставить вашу любимую картинку."
   ]
  },
  {
   "cell_type": "code",
   "execution_count": null,
   "metadata": {
    "collapsed": true
   },
   "outputs": [],
   "source": []
  },
  {
   "cell_type": "markdown",
   "metadata": {},
   "source": [
    "А здесь я удаляю переменные"
   ]
  },
  {
   "cell_type": "code",
   "execution_count": 79,
   "metadata": {
    "collapsed": true
   },
   "outputs": [],
   "source": [
    "del data"
   ]
  },
  {
   "cell_type": "code",
   "execution_count": 80,
   "metadata": {
    "collapsed": true
   },
   "outputs": [],
   "source": [
    "del new_data"
   ]
  },
  {
   "cell_type": "code",
   "execution_count": 81,
   "metadata": {
    "collapsed": true
   },
   "outputs": [],
   "source": [
    "del ndata"
   ]
  },
  {
   "cell_type": "code",
   "execution_count": null,
   "metadata": {
    "collapsed": true
   },
   "outputs": [],
   "source": []
  }
 ],
 "metadata": {
  "kernelspec": {
   "display_name": "Python [Root]",
   "language": "python",
   "name": "Python [Root]"
  },
  "language_info": {
   "codemirror_mode": {
    "name": "ipython",
    "version": 2
   },
   "file_extension": ".py",
   "mimetype": "text/x-python",
   "name": "python",
   "nbconvert_exporter": "python",
   "pygments_lexer": "ipython2",
   "version": "2.7.12"
  }
 },
 "nbformat": 4,
 "nbformat_minor": 0
}
